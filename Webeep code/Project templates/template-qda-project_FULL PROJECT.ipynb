{
 "cells": [
  {
   "attachments": {},
   "cell_type": "markdown",
   "metadata": {},
   "source": [
    "# <span style=\"color:orange\">Quality Data Analysis - Project Work [FULL PROJECT] </span>\n",
    "## Team [TEAM NUMBER HERE]\n",
    "\n",
    "### Course Details:\n",
    "- Academic Year: 2023-2024\n",
    "\n",
    "### Project Details:\n",
    "- Title: [ENTER PROJECT TITLE HERE]\n",
    "\n",
    "### Team Members:\n",
    "- [ENTER NAME 1 HERE]\n",
    "- [ENTER NAME 2 HERE]\n",
    "- [ENTER NAME 3 HERE]\n",
    "- [ENTER NAME 4 HERE]\n",
    "\n",
    "### Instructor:\n",
    "- [ENTER INSTRUCTOR NAME HERE]"
   ]
  },
  {
   "cell_type": "markdown",
   "metadata": {},
   "source": [
    "# Instructions\n",
    "- This is a template notebook for the project work.\n",
    "- Please fill in the details above (team members, instructor, etc.)\n",
    "## PHASE 1 - Report structure\n",
    "Please use the following sections for your project report:\n",
    "- **Introduction** [max 3500 characters including spaces]\n",
    "    - Recap the project work framework and objective\n",
    "    - Briefly summarize the overall methodology you used to model and analyse your data\n",
    "    - Briefly summarize the state-of-the-art you analysed to support your study (if any).\n",
    "- **Assumptions and preliminary data analysis** [max 5000 characters including spaces]\n",
    "    - Clearly state and motivate all the assumptions your proposed methodology relies on; present and discuss any preliminary data analysis and visualization you applied on the data.\n",
    "- **Proposed methodology** [max 10000 characters including spaces]\n",
    "    - Synthetically describe, motivate and critically discuss your proposed statistical process monitoring approach. \n",
    "- **Results** [max 10000 characters including spaces]\n",
    "    - Synthetically presents and discuss the results of your statistical process monitoring design. \n",
    "\n",
    "## PHASE 2 - Report structure\n",
    "Please use the following sections for your project report:\n",
    "- **Preliminary data analysis** [max 5000 characters including spaces]\n",
    "    - Synthetically describe and discuss any preliminary data analysis and visualization applied on the new dataset.\n",
    "- **Test of your proposed approach on new data** [max 5000 characters including spaces]\n",
    "    - Synthetically presents and discuss the results you got applying to the new data your previously designed statistical process monitoring approach.\n",
    "- **Discussion** [max 5000 characters including spaces]\n",
    "    - Critically discuss your results In this Section you can also propose possible ways to tune or revise your previously designed method to enhance its defect detection performance. \n",
    "\n",
    "You can add code cells to any of the above sections to show your code or display images. Each block of code should be accompanied by a brief description of what it does (not counted in characters limits).\n",
    "\n",
    "## Submission\n",
    "- Name your notebook as `teamXX.ipynb` where `XX` is your team number.\n",
    "- Submit your notebook together with the Dataframe as a ZIP file on Webeep by the deadline. The ZIP file name must clearly state the \"TEAM NUMBER\"."
   ]
  },
  {
   "cell_type": "markdown",
   "metadata": {},
   "source": [
    "# PHASE 1 ------------------------------"
   ]
  },
  {
   "attachments": {},
   "cell_type": "markdown",
   "metadata": {},
   "source": [
    "# Introduction\n"
   ]
  },
  {
   "attachments": {},
   "cell_type": "markdown",
   "metadata": {},
   "source": [
    "# Assumptions and preliminary data analysis"
   ]
  },
  {
   "attachments": {},
   "cell_type": "markdown",
   "metadata": {},
   "source": [
    "# Proposed methodology"
   ]
  },
  {
   "attachments": {},
   "cell_type": "markdown",
   "metadata": {},
   "source": [
    "# Results"
   ]
  },
  {
   "attachments": {},
   "cell_type": "markdown",
   "metadata": {},
   "source": [
    "# References (if any)"
   ]
  },
  {
   "cell_type": "markdown",
   "metadata": {},
   "source": [
    "# PHASE 2 -----------------------------"
   ]
  },
  {
   "cell_type": "markdown",
   "metadata": {},
   "source": [
    "# Preliminary data analysis"
   ]
  },
  {
   "cell_type": "markdown",
   "metadata": {},
   "source": [
    "# Test of your proposed approach on new data"
   ]
  },
  {
   "cell_type": "markdown",
   "metadata": {},
   "source": [
    "# Discussion"
   ]
  }
 ],
 "metadata": {
  "kernelspec": {
   "display_name": "qda_v2",
   "language": "python",
   "name": "python3"
  },
  "language_info": {
   "name": "python",
   "version": "3.7.16"
  },
  "orig_nbformat": 4
 },
 "nbformat": 4,
 "nbformat_minor": 2
}
