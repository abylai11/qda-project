{
 "cells": [
  {
   "attachments": {},
   "cell_type": "markdown",
   "metadata": {},
   "source": [
    "# <span style=\"color:orange\">Quality Data Analysis - Project Work [HALF PROJECT] </span>\n",
    "## Team [TEAM NUMBER HERE]\n",
    "\n",
    "### Course Details:\n",
    "- Academic Year: 2023-2024\n",
    "\n",
    "### Project Details:\n",
    "- Title: [ENTER PROJECT TITLE HERE]\n",
    "\n",
    "### Team Members:\n",
    "- [ENTER NAME 1 HERE]\n",
    "- [ENTER NAME 2 HERE]\n",
    "- [ENTER NAME 3 HERE]\n",
    "- [ENTER NAME 4 HERE]\n",
    "\n",
    "### Instructor:\n",
    "- [ENTER INSTRUCTOR NAME HERE]"
   ]
  },
  {
   "cell_type": "markdown",
   "metadata": {},
   "source": [
    "# Instructions\n",
    "- This is a template notebook for the project work.\n",
    "- Please fill in the details above (team members, instructor, etc.)\n",
    "## Report structure\n",
    "Please use the following sections for your project report:\n",
    "- **Introduction** [max 3500 characters including spaces]\n",
    "    - Recap the project work framework and objective\n",
    "    - Briefly summarize the overall methodology you used to model and analyse your data\n",
    "    - Briefly summarize the state-of-the-art you analysed to support your study (if any).\n",
    "- **Assumptions** [max 3500 characters including spaces]\n",
    "    - Clearly state and motivate all the assumptions your proposed methodology relies on. \n",
    "- **Preliminary data analysis & modelling** [max 10000 characters including spaces]\n",
    "    - Synthetically describe, motivate and critically discuss any data analysis and modelling approach that you have applied on the available data, the underlying motivation and the results. \n",
    "- **Dimensional reduction** [max 10000 characters including spaces]\n",
    "    - Synthetically describe, motivate and critically discuss your proposed approach for the dimensional reduction of the data and discuss the final results. \n",
    "\n",
    "You can add code cells to any of the above sections to show your code or display images. Each block of code should be accompanied by a brief description of what it does (not counted within the characters limits).\n",
    "\n",
    "## Submission\n",
    "- Name your notebook as `teamXX.ipynb` where `XX` is your team number.\n",
    "- Submit your notebook together with the Dataframe as a ZIP file on Webeep by the deadline. The ZIP file name must clearly state the \"TEAM NUMBER\"."
   ]
  },
  {
   "attachments": {},
   "cell_type": "markdown",
   "metadata": {},
   "source": [
    "# Introduction\n"
   ]
  },
  {
   "attachments": {},
   "cell_type": "markdown",
   "metadata": {},
   "source": [
    "# Assumptions"
   ]
  },
  {
   "attachments": {},
   "cell_type": "markdown",
   "metadata": {},
   "source": [
    "# Data analysis and modelling"
   ]
  },
  {
   "attachments": {},
   "cell_type": "markdown",
   "metadata": {},
   "source": [
    "# Dimensional reduction"
   ]
  },
  {
   "attachments": {},
   "cell_type": "markdown",
   "metadata": {},
   "source": [
    "# References (if any)"
   ]
  }
 ],
 "metadata": {
  "language_info": {
   "name": "python"
  },
  "orig_nbformat": 4
 },
 "nbformat": 4,
 "nbformat_minor": 2
}
