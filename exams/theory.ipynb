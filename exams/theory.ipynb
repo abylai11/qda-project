{
 "cells": [
  {
   "attachments": {},
   "cell_type": "markdown",
   "metadata": {},
   "source": [
    "># EX1"
   ]
  },
  {
   "cell_type": "code",
   "execution_count": 1,
   "metadata": {},
   "outputs": [],
   "source": [
    "import numpy as np\n",
    "import matplotlib.pyplot as plt\n",
    "import pandas as pd\n",
    "from scipy import stats\n",
    "import qda"
   ]
  },
  {
   "cell_type": "code",
   "execution_count": 2,
   "metadata": {},
   "outputs": [],
   "source": [
    "n=6\n",
    "mean=0.4\n",
    "sigma=0.03\n",
    "alpha=0.01\n",
    "K_alpha=stats.norm.ppf(1-alpha/2)\n",
    "C4=qda.constants.getc4(n)\n",
    "LCL=C4*sigma-K_alpha*sigma*np.sqrt(1-C4*C4)\n",
    "UCL=C4*sigma+K_alpha*sigma*np.sqrt(1-C4*C4)\n",
    "lower=(n-1)*LCL*LCL/(sigma*sigma)\n",
    "upper=(n-1)*UCL*UCL/(sigma*sigma)\n",
    "prob=stats.chi2.cdf(upper,n-1)-stats.chi2.cdf(lower,n-1)"
   ]
  },
  {
   "attachments": {},
   "cell_type": "markdown",
   "metadata": {},
   "source": [
    "## Point2"
   ]
  },
  {
   "cell_type": "code",
   "execution_count": 3,
   "metadata": {},
   "outputs": [],
   "source": [
    "sigma=0.07\n",
    "lower=(n-1)*LCL*LCL/(sigma*sigma)\n",
    "upper=(n-1)*UCL*UCL/(sigma*sigma)\n",
    "prob=stats.chi2.cdf(upper,n-1)-stats.chi2.cdf(lower,n-1)"
   ]
  },
  {
   "attachments": {},
   "cell_type": "markdown",
   "metadata": {},
   "source": [
    ">## EX2"
   ]
  },
  {
   "cell_type": "code",
   "execution_count": 4,
   "metadata": {},
   "outputs": [],
   "source": [
    "t=stats.t.ppf(1-0.025/2,147)"
   ]
  },
  {
   "attachments": {},
   "cell_type": "markdown",
   "metadata": {},
   "source": [
    ">## EX ending"
   ]
  },
  {
   "cell_type": "code",
   "execution_count": 5,
   "metadata": {},
   "outputs": [],
   "source": [
    "gamma_l=stats.norm.ppf(0.01)"
   ]
  }
 ],
 "metadata": {
  "kernelspec": {
   "display_name": "qda",
   "language": "python",
   "name": "python3"
  },
  "language_info": {
   "codemirror_mode": {
    "name": "ipython",
    "version": 3
   },
   "file_extension": ".py",
   "mimetype": "text/x-python",
   "name": "python",
   "nbconvert_exporter": "python",
   "pygments_lexer": "ipython3",
   "version": "3.7.16"
  },
  "orig_nbformat": 4
 },
 "nbformat": 4,
 "nbformat_minor": 2
}
