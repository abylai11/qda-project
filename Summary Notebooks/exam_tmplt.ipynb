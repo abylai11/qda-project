{
 "cells": [
  {
   "cell_type": "markdown",
   "metadata": {},
   "source": [
    "# Setup"
   ]
  },
  {
   "cell_type": "code",
   "execution_count": null,
   "metadata": {},
   "outputs": [],
   "source": [
    "import numpy as np\n",
    "import pandas as pd\n",
    "import matplotlib.pyplot as plt\n",
    "import scipy.stats as stats\n",
    "import seaborn as sns\n",
    "from tabulate import tabulate\n",
    "\n",
    "from statsmodels.sandbox.stats.runs import runstest_1samp\n",
    "import statsmodels.graphics.tsaplots as sgt\n",
    "from statsmodels.tsa.stattools import acf\n",
    "import statsmodels.api as sm\n",
    "import statsmodels.tsa.api as tsa\n",
    "\n",
    "import qda\n",
    "\n",
    "import os\n",
    "import re\n",
    "from scipy import ndimage\n",
    "import math\n",
    "import random\n",
    "import cv2\n",
    "import skimage\n",
    "from scipy import stats\n",
    "import pylab\n",
    "\n",
    "from PIL import Image, ImageEnhance\n",
    "from skimage.measure import label, regionprops\n",
    "from skimage.io import imsave\n",
    "from skimage.filters import threshold_otsu\n",
    "\n",
    "from sklearn.decomposition import PCA\n",
    "from statsmodels.tsa.stattools import adfuller, kpss\n",
    "\n",
    "def check_gaussianity(data_points, title=\"\",plotto=1):\n",
    "\tif str(type(data_points)) == \"<class 'pandas.core.series.Series'>\":\n",
    "\t\tdata_points = data_points.dropna().values\n",
    "\tif plotto==1:\n",
    "\t\tplt.figure(figsize=(12,4))\n",
    "\t\tplt.subplot(1, 3, 1)\n",
    "\t\tstats.probplot(data_points,plot=plt)\n",
    "\t\tplt.subplot(1, 3, 2)\n",
    "\t\t# plt.hist(data_points)\n",
    "\t\tsns.histplot(data_points, kde=True, stat=\"density\", linewidth=0)\n",
    "\t\tplt.subplot(1, 3, 3)\n",
    "\t\tplt.plot(data_points,'o-')\n",
    "\t\tplt.suptitle(f\"{title}\")\n",
    "\t\tplt.show()\n",
    "\t_, shapiro_pvalue = stats.shapiro(data_points)\n",
    "\tprint(f\"({title}) Normality p-value = {shapiro_pvalue} - Normality at alpha 5%? {shapiro_pvalue>0.05}\")\n",
    "\tprint('H0 is \"data are gaussian\" => conclusion is good if pvalue is high')\n",
    "\n",
    "def check_randomness(data_points, title=\"\", plotto=1, layout=\"h\"):\n",
    "\tif plotto==1:\n",
    "\t\tif layout==\"v\":\n",
    "\t\t\tfig, ax = plt.subplots(3,1, figsize=(8,12))\n",
    "\t\telse:\n",
    "\t\t\tfig, ax = plt.subplots(1,3, figsize=(12,4))\n",
    "\t\tsgt.plot_acf(data_points, lags = int(len(data_points)/3), zero=False, ax=ax[0])\n",
    "\t\tfig.subplots_adjust(hspace=0.3)\n",
    "\t\tsgt.plot_pacf(data_points, lags = int(len(data_points)/3), zero=False, ax=ax[1], method = 'ywm')\n",
    "\t\tax[2].plot(data_points,'o-')\n",
    "\t\tplt.show()\t\n",
    "\t_, pval_runs = runstest_1samp(data_points, correction=False)\n",
    "\tprint(f'({title}) Runs test p-value = {pval_runs} - Random data at alpha 5%? {pval_runs>0.05}')\n",
    "\tprint('H0 is \"data are random\" => conclusion is good if pvalue is high')\n",
    "\t#\n",
    "\t# and stationarity\n",
    "\t#\n",
    "\t# Perform ADF test\n",
    "\tadf_result = adfuller(data_points)\n",
    "\tadf_pvalue = adf_result[1]\n",
    "\tprint(f\"({title}) ADF test p-value = {adf_pvalue} - Stationarity at alpha 5%? {adf_pvalue <= 0.05}\")\n",
    "\tprint('H0 is \"data has a unit root (non-stationary)\" => conclusion is good if p-value is low')\n",
    "\n",
    "def check_assumptions(data_points, title=\"\",plotto=1):\n",
    "\tcheck_gaussianity(data_points, title,plotto)\n",
    "\tcheck_randomness(data_points, title,plotto)\n",
    "\n",
    "def check_residuals(model):\n",
    "\tfig, axs = plt.subplots(2, 2, figsize=(12, 7))\n",
    "\tfig.suptitle('Residual Plots')\n",
    "\tstats.probplot(model.resid, dist=\"norm\", plot=axs[0, 0])\n",
    "\taxs[0, 0].set_title('Normal Probability Plot')\n",
    "\taxs[0, 1].scatter(model.fittedvalues, model.resid)\n",
    "\taxs[0, 1].set_xlabel('Fitted Values')\n",
    "\taxs[0, 1].set_ylabel('Residuals')\n",
    "\taxs[0, 1].set_title('Residuals vs Fitted Values')\n",
    "\tplt.subplot(2, 2, 3)\n",
    "\tsns.histplot(model.resid, kde=True, stat=\"density\", linewidth=0)\n",
    "\tplt.title('Histogram with KDE')\n",
    "\taxs[1, 1].plot(np.arange(1, len(model.resid) + 1), model.resid, 'o-')\n",
    "\taxs[1, 1].set_title('Residuals Over Time')\n",
    "\t_, pval_SW_res = stats.shapiro(model.resid)\n",
    "\tplt.tight_layout()\n",
    "\tplt.subplots_adjust(top=0.88, hspace=0.3) \n",
    "\tcheck_randomness(model.resid, title=\"Residuals\")\n",
    "\tcheck_gaussianity(model.resid, title=\"Residuals\", plotto=0)\n",
    "\n",
    "def get_ooc(df):\n",
    "    # Filter columns that contain the word \"TEST\"\n",
    "    test_columns = [col for col in df.columns if \"TEST\" in col]\n",
    "    # Initialize a dictionary to store the indices and their corresponding columns with NaNs\n",
    "    nan_info = {}\n",
    "    # Iterate over the test columns to find NaN values\n",
    "    for col in test_columns:\n",
    "        nan_indices = df[col].index[df[col].notnull()].tolist()\n",
    "        for idx in nan_indices:\n",
    "            if idx in nan_info:\n",
    "                nan_info[idx].append(col)\n",
    "            else:\n",
    "                nan_info[idx] = [col]\n",
    "    # Print the results\n",
    "    for idx, cols in nan_info.items():\n",
    "        print(f'Index {idx} (ie sample {idx+1}) is ooc from column {cols}')\n",
    "\n",
    "# Function for batching\n",
    "def batch_data(data, k):\n",
    "    data_batched = []\n",
    "    for i in range(0, len(data), k):\n",
    "        if i + k <= len(data):\n",
    "            batch = data[i:i + k]\n",
    "            avg = batch.mean()\n",
    "            data_batched.append(avg)\n",
    "    return pd.DataFrame(data_batched, columns=['x'])\n",
    "\n",
    "# Function for gapping\n",
    "def gap_data(data, k):\n",
    "    data_gapped = data[::k]\n",
    "    return pd.DataFrame(data_gapped, columns=['x'])"
   ]
  },
  {
   "cell_type": "markdown",
   "metadata": {},
   "source": [
    "# Ex1"
   ]
  },
  {
   "cell_type": "code",
   "execution_count": null,
   "metadata": {},
   "outputs": [],
   "source": []
  },
  {
   "cell_type": "markdown",
   "metadata": {},
   "source": [
    "## A"
   ]
  },
  {
   "cell_type": "code",
   "execution_count": null,
   "metadata": {},
   "outputs": [],
   "source": []
  },
  {
   "cell_type": "markdown",
   "metadata": {},
   "source": [
    "## B"
   ]
  },
  {
   "cell_type": "code",
   "execution_count": null,
   "metadata": {},
   "outputs": [],
   "source": []
  },
  {
   "cell_type": "markdown",
   "metadata": {},
   "source": [
    "## C"
   ]
  },
  {
   "cell_type": "code",
   "execution_count": null,
   "metadata": {},
   "outputs": [],
   "source": []
  },
  {
   "cell_type": "markdown",
   "metadata": {},
   "source": [
    "## D"
   ]
  },
  {
   "cell_type": "code",
   "execution_count": null,
   "metadata": {},
   "outputs": [],
   "source": []
  },
  {
   "cell_type": "markdown",
   "metadata": {},
   "source": [
    "## E"
   ]
  },
  {
   "cell_type": "code",
   "execution_count": null,
   "metadata": {},
   "outputs": [],
   "source": []
  },
  {
   "cell_type": "markdown",
   "metadata": {},
   "source": [
    "# Ex2"
   ]
  },
  {
   "cell_type": "code",
   "execution_count": null,
   "metadata": {},
   "outputs": [],
   "source": []
  },
  {
   "cell_type": "markdown",
   "metadata": {},
   "source": [
    "## A"
   ]
  },
  {
   "cell_type": "code",
   "execution_count": null,
   "metadata": {},
   "outputs": [],
   "source": []
  },
  {
   "cell_type": "markdown",
   "metadata": {},
   "source": [
    "## B"
   ]
  },
  {
   "cell_type": "code",
   "execution_count": null,
   "metadata": {},
   "outputs": [],
   "source": []
  },
  {
   "cell_type": "markdown",
   "metadata": {},
   "source": [
    "## C"
   ]
  },
  {
   "cell_type": "code",
   "execution_count": null,
   "metadata": {},
   "outputs": [],
   "source": []
  },
  {
   "cell_type": "markdown",
   "metadata": {},
   "source": [
    "## D"
   ]
  },
  {
   "cell_type": "code",
   "execution_count": null,
   "metadata": {},
   "outputs": [],
   "source": []
  },
  {
   "cell_type": "markdown",
   "metadata": {},
   "source": [
    "## E"
   ]
  },
  {
   "cell_type": "code",
   "execution_count": null,
   "metadata": {},
   "outputs": [],
   "source": []
  }
 ],
 "metadata": {
  "language_info": {
   "name": "python"
  }
 },
 "nbformat": 4,
 "nbformat_minor": 2
}
