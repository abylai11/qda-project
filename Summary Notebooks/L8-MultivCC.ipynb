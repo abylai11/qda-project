{
 "cells": [
  {
   "cell_type": "markdown",
   "metadata": {},
   "source": [
    "Multivariate Control charts"
   ]
  },
  {
   "cell_type": "code",
   "execution_count": null,
   "metadata": {},
   "outputs": [],
   "source": [
    "# Import the dataset\n",
    "data = pd.read_csv('')\n",
    "print(data.shape)\n",
    "data.head()"
   ]
  },
  {
   "cell_type": "code",
   "execution_count": null,
   "metadata": {},
   "outputs": [],
   "source": [
    "# Extract stacked array\n",
    "Cov1 = data[['', '', '']]\n",
    "Cov2 = data[['', '', '']]\n",
    "\n",
    "# Plot data coloured according to sample\n",
    "fig, ax = plt.subplots(1, 2, figsize=(10, 5))\n",
    "ax[0].plot(Cov1, 'o')\n",
    "ax[0].set_xlabel('Sample')\n",
    "ax[0].set_ylabel('')\n",
    "ax[0].set_title('')\n",
    "ax[1].plot(Cov2, 'o')\n",
    "ax[1].set_xlabel('Sample')\n",
    "ax[1].set_ylabel('')\n",
    "ax[1].set_title('')\n",
    "plt.show()"
   ]
  },
  {
   "cell_type": "code",
   "execution_count": null,
   "metadata": {},
   "outputs": [],
   "source": [
    "# Plot the data\n",
    "plt.scatter(Width, Corr_speed)\n",
    "plt.xlabel('Width')\n",
    "plt.ylabel('Corr. speed')\n",
    "plt.show()"
   ]
  },
  {
   "cell_type": "markdown",
   "metadata": {},
   "source": [
    "Hotelling T2 for n>1"
   ]
  },
  {
   "cell_type": "code",
   "execution_count": null,
   "metadata": {},
   "outputs": [],
   "source": [
    "#new dataframe to store sample mean\n",
    "sample_mean = pd.DataFrame()\n",
    "sample_mean[''] = Cov1.mean(axis=1)\n",
    "sample_mean[''] = Cov2.mean(axis=1)\n",
    "\n",
    "#Calculate grand mean\n",
    "Xbarbar = sample_mean.mean()\n",
    "print(Xbarbar)"
   ]
  },
  {
   "cell_type": "code",
   "execution_count": null,
   "metadata": {},
   "outputs": [],
   "source": [
    "#new dataframe to store stacked data\n",
    "data_stack = pd.DataFrame()\n",
    "data_stack[['sample', 'Cov1']] = Cov1.transpose().melt()\n",
    "data_stack['Cov2'] = Cov2.transpose().melt()['value']\n",
    "\n",
    "data_stack.head(10)"
   ]
  },
  {
   "cell_type": "code",
   "execution_count": null,
   "metadata": {},
   "outputs": [],
   "source": [
    "# Compute variance and covariance matrix of each sample\n",
    "cov_matrix = data_stack.groupby('sample').cov()\n",
    "\n",
    "# Compute mean covariance matrix\n",
    "S = cov_matrix.groupby(level=1).mean()"
   ]
  },
  {
   "cell_type": "code",
   "execution_count": null,
   "metadata": {},
   "outputs": [],
   "source": [
    "# Reorder the indeces of S to match the order of the columns\n",
    "# get the names of the columns\n",
    "cols = S.columns.tolist()\n",
    "\n",
    "S = S.reindex(columns=cols, index=cols)\n",
    "\n",
    "print(S)\n",
    "\n",
    "S_inv = np.linalg.inv(S)"
   ]
  },
  {
   "cell_type": "code",
   "execution_count": null,
   "metadata": {},
   "outputs": [],
   "source": [
    "p = 2           # number of random variables\n",
    "m = 10          # number of samples\n",
    "n = 3           # number of replicates (sample size)\n",
    "alpha = 0.05    # significance level\n",
    "\n",
    "UCL = (p * (m-1) * (n-1)) / (m * (n-1) - (p-1)) * stats.f.ppf(1-alpha, p, m*n - m + 1 - p)\n",
    "\n",
    "print('UCL = %.3f' % UCL)\n",
    "\n",
    "# Calculate Hotelling T2 statistic for all samples\n",
    "T2 = []\n",
    "for i in range(m):\n",
    "    T2.append(n * (sample_mean.iloc[i]-Xbarbar).transpose().dot(S_inv).dot(sample_mean.iloc[i]-Xbarbar))\n",
    "\n",
    "# Plot Hotelling T2 statistic\n",
    "plt.plot(T2, 'o-')\n",
    "plt.plot([0, m], [UCL, UCL], 'r-')\n",
    "plt.plot([0, m], [np.median(T2), np.median(T2)], 'g-')\n",
    "plt.xlabel('Sample')\n",
    "plt.ylabel('Hotelling T2')\n",
    "plt.show()"
   ]
  },
  {
   "cell_type": "markdown",
   "metadata": {},
   "source": [
    "Xbarbar and S already given by problem"
   ]
  },
  {
   "cell_type": "code",
   "execution_count": null,
   "metadata": {},
   "outputs": [],
   "source": [
    "# define the sample mean vector as a pandas series\n",
    "Xbarbar = pd.Series({'xbar1': , 'xbar2': })\n",
    "# define the covariance matrix as a pandas dataframe\n",
    "S = pd.DataFrame([[, ],\n",
    "                [, ]],\n",
    "                columns=['xbar1', 'xbar2'],\n",
    "                index=['xbar1', 'xbar2'])"
   ]
  },
  {
   "cell_type": "code",
   "execution_count": null,
   "metadata": {},
   "outputs": [],
   "source": [
    "# Calculate hotelling of first and second sample\n",
    "\n",
    "S_inv = np.linalg.inv(S) # inverse of the covariance matrix\n",
    "\n",
    "# Calculate the Hotelling's T2 statistic of the sample 1\n",
    "T2_1 = n * (data.loc['sample1'] - Xbarbar).transpose().dot(S_inv).dot(data.loc['sample1'] - Xbarbar)\n",
    "\n",
    "# Calculate the Hotelling's T2 statistic of the sample 2\n",
    "T2_2 = n * (data.loc['sample2'] - Xbarbar).transpose().dot(S_inv).dot(data.loc['sample2'] - Xbarbar)\n",
    "\n",
    "print(\"T2_1 = %.3f\" % T2_1)\n",
    "print(\"T2_2 = %.3f\" % T2_2)"
   ]
  },
  {
   "cell_type": "code",
   "execution_count": null,
   "metadata": {},
   "outputs": [],
   "source": [
    "# If we assume large m -> asymptotic hotelling \n",
    "\n",
    "UCL = stats.chi2.ppf(1-alpha, p)\n",
    "\n",
    "print(\"UCL = %.4f\" % UCL)"
   ]
  },
  {
   "cell_type": "markdown",
   "metadata": {},
   "source": [
    "If population statistics already known"
   ]
  },
  {
   "cell_type": "code",
   "execution_count": null,
   "metadata": {},
   "outputs": [],
   "source": [
    "# Want to set region for ARL(0) >= than 500\n",
    "\n",
    "# Define the parameters\n",
    "ARL = 500\n",
    "p =            # number of random variables\n",
    "n =            # number of replicates (sample size)\n",
    "\n",
    "mu_x = \n",
    "var_x = \n",
    "\n",
    "mu_y = \n",
    "var_y = \n",
    "\n",
    "mu_z = \n",
    "var_z = \n",
    "\n",
    "# Calculate the Z \n",
    "alpha_FAM = 1 / ARL\n",
    "alpha = alpha_FAM / p    #bonferroni\n",
    "Zalpha = stats.norm.ppf(1-alpha/2)\n",
    "\n",
    "print(\"alpha_FAM = %f \" % alpha_FAM)\n",
    "print(\"alpha = %f \" % alpha)\n",
    "print(\"Z alpha/2 = %.3f \" % Zalpha)"
   ]
  },
  {
   "cell_type": "code",
   "execution_count": null,
   "metadata": {},
   "outputs": [],
   "source": [
    "# Compute the control limits of the variable x CC\n",
    "UCL_x = mu_x + Zalpha*np.sqrt(var_x)/np.sqrt(n)\n",
    "CL_x = mu_x\n",
    "LCL_x = mu_x - Zalpha*np.sqrt(var_x)/np.sqrt(n)\n",
    "\n",
    "# Compute the control limits of the variable y CC\n",
    "UCL_y = mu_y + Zalpha*np.sqrt(var_y)/np.sqrt(n)\n",
    "CL_y = mu_y\n",
    "LCL_y = mu_y - Zalpha*np.sqrt(var_y)/np.sqrt(n)\n",
    "\n",
    "# Compute the control limits of the variable z CC\n",
    "UCL_z = mu_z + Zalpha*np.sqrt(var_z)/np.sqrt(n)\n",
    "CL_z = mu_z\n",
    "LCL_z = mu_z - Zalpha*np.sqrt(var_z)/np.sqrt(n)\n",
    "\n",
    "# Print a table with the control limits\n",
    "data = pd.DataFrame({'UCL': [UCL_x, UCL_y, UCL_z], \n",
    "                        'CL': [CL_x, CL_y, CL_z], \n",
    "                        'LCL': [LCL_x, LCL_y, LCL_z]}, index = ['x', 'y', 'z'])\n",
    "\n",
    "print(data)"
   ]
  },
  {
   "cell_type": "markdown",
   "metadata": {},
   "source": [
    "Individual chart with known parameters"
   ]
  },
  {
   "cell_type": "code",
   "execution_count": null,
   "metadata": {},
   "outputs": [],
   "source": [
    "# Define the parameters\n",
    "mu_1 = \n",
    "mu_2 = \n",
    "\n",
    "std_1 = \n",
    "std_2 = \n",
    "\n",
    "corr = \n",
    "\n",
    "# Create the mean vector\n",
    "mu = pd.Series({'x1': mu_1, 'x2': mu_2})\n",
    "\n",
    "# Calculate the variance/covariance matrix\n",
    "covariance = corr * std_1 * std_2\n",
    "var_1 = std_1**2\n",
    "var_2 = std_2**2\n",
    "\n",
    "# define the covariance matrix as a pandas dataframe\n",
    "S = pd.DataFrame([[var_1, covariance],\n",
    "                [covariance, var_2]],\n",
    "                columns=['x1', 'x2'],\n",
    "                index=['x1', 'x2'])\n",
    "\n",
    "print(\"The mean vector is: \\n\", mu)\n",
    "print(\"\\nThe variance/covariance matrix is: \\n\", S)"
   ]
  },
  {
   "cell_type": "code",
   "execution_count": null,
   "metadata": {},
   "outputs": [],
   "source": [
    "alpha = 0.0027 # significance level\n",
    "n = 1          # sample size\n",
    "m = len(data)  # number of samples\n",
    "p = 2          # number of variables\n",
    "\n",
    "# drop the sample column\n",
    "data = data.drop('Sample', axis=1)\n",
    "data.head()"
   ]
  },
  {
   "cell_type": "code",
   "execution_count": null,
   "metadata": {},
   "outputs": [],
   "source": [
    "S_inv = np.linalg.inv(S) # inverse of the variance/covariance matrix\n",
    "# Calculate the upper control limit\n",
    "UCL = stats.chi2.ppf(1 - alpha, df = p)\n",
    "\n",
    "# Add an empty column to the dataframe to store the Chi2 statistic\n",
    "data_CC = data.copy()\n",
    "data_CC['Chi2'] = np.nan\n",
    "\n",
    "for i in range(m):\n",
    "    data_CC['Chi2'].iloc[i] = n * (data.iloc[i] - mu).transpose().dot(S_inv).dot(data.iloc[i] - mu)\n",
    "\n",
    "# Now we can add the UCL, CL and LCL to the dataframe\n",
    "data_CC['Chi2_UCL'] = UCL\n",
    "data_CC['Chi2_CL'] = data_CC['Chi2'].median()\n",
    "data_CC['Chi2_LCL'] = 0\n",
    "\n",
    "# Add one column to test if the sample is out of control\n",
    "data_CC['Chi2_TEST'] = np.where((data_CC['Chi2'] > data_CC['Chi2_UCL']), data_CC['Chi2'], np.nan)\n",
    "\n",
    "# Inspect the dataset\n",
    "data_CC.head()\n"
   ]
  },
  {
   "cell_type": "code",
   "execution_count": null,
   "metadata": {},
   "outputs": [],
   "source": [
    "# Plot the Chi2 control chart\n",
    "\n",
    "plt.title('Chi2 control chart')\n",
    "plt.plot(data_CC['Chi2'], color='b', linestyle='--', marker='o')\n",
    "plt.plot(data_CC['Chi2_UCL'], color='r')\n",
    "plt.plot(data_CC['Chi2_CL'], color='g')\n",
    "plt.plot(data_CC['Chi2_LCL'], color='r')\n",
    "plt.ylabel('Chi2 statistic')\n",
    "plt.xlabel('Sample number')\n",
    "# add the values of the control limits on the right side of the plot\n",
    "plt.text(len(data_CC)+.5, data_CC['Chi2_UCL'].iloc[0], 'UCL = {:.3f}'.format(data_CC['Chi2_UCL'].iloc[0]), verticalalignment='center')\n",
    "plt.text(len(data_CC)+.5, data_CC['Chi2_CL'].iloc[0], 'median = {:.3f}'.format(data_CC['Chi2_CL'].iloc[0]), verticalalignment='center')\n",
    "# highlight the points that violate the alarm rules\n",
    "plt.plot(data_CC['Chi2_TEST'], linestyle='none', marker='s', color='r', markersize=10)\n",
    "plt.show()"
   ]
  },
  {
   "cell_type": "markdown",
   "metadata": {},
   "source": [
    "If parameters not known -> estimation"
   ]
  },
  {
   "cell_type": "markdown",
   "metadata": {},
   "source": [
    "short period"
   ]
  },
  {
   "cell_type": "code",
   "execution_count": null,
   "metadata": {},
   "outputs": [],
   "source": [
    "# Create the V matrix\n",
    "V = data.diff().dropna()\n",
    "\n",
    "# Calculate the short range estimator S2\n",
    "S2 = 1/2 * V.transpose().dot(V) / (m-1)\n",
    "\n",
    "# Display the short range estimator\n",
    "print(\"The short range estimator is: \\n\", S2)"
   ]
  },
  {
   "cell_type": "code",
   "execution_count": null,
   "metadata": {},
   "outputs": [],
   "source": [
    "# Calculate the Xbar from the data\n",
    "Xbar = data.mean()\n",
    "\n",
    "S2_inv = np.linalg.inv(S2)\n",
    "\n",
    "data_CC = data.copy()\n",
    "# Calculate the Hotelling T2 statistic\n",
    "data_CC['T2'] = np.nan\n",
    "for i in range(m):\n",
    "    data_CC['T2'].iloc[i] = n * (data.iloc[i] - Xbar).transpose().dot(S2_inv).dot(data.iloc[i] - Xbar)\n",
    "\n",
    "# Now we can add the UCL, CL and LCL to the dataframe\n",
    "data_CC['T2_UCL'] = ((m-1)**2)/m*stats.beta.ppf(1 - alpha, p/2, (m-p-1)/2)\n",
    "data_CC['T2_CL'] = data_CC['T2'].median()\n",
    "data_CC['T2_LCL'] = 0\n",
    "\n",
    "# phase 2 limit\n",
    "#phase2_UCL = (p*(m-1)*(m+1))/(m*m-m*p)*stats.f.ppf(1 - alpha, p, m-p)\n",
    "\n",
    "\n",
    "# Add one column to test if the sample is out of control\n",
    "data_CC['T2_TEST'] = np.where((data_CC['T2'] > data_CC['T2_UCL']), data_CC['T2'], np.nan)\n",
    "\n",
    "# Inspect the dataset\n",
    "data_CC.head()"
   ]
  },
  {
   "cell_type": "code",
   "execution_count": null,
   "metadata": {},
   "outputs": [],
   "source": [
    "# Plot the T2 control chart\n",
    "plt.title('T2 control chart')\n",
    "plt.plot(data_CC['T2'], color='b', linestyle='--', marker='o')\n",
    "plt.plot(data_CC['T2_UCL'], color='r')\n",
    "plt.plot(data_CC['T2_CL'], color='g')\n",
    "plt.plot(data_CC['T2_LCL'], color='r')\n",
    "plt.ylabel('T2 statistic')\n",
    "plt.xlabel('Sample number')\n",
    "# add the values of the control limits on the right side of the plot\n",
    "plt.text(len(data_CC)+.5, data_CC['T2_UCL'].iloc[0], 'UCL = {:.3f}'.format(data_CC['T2_UCL'].iloc[0]), verticalalignment='center')\n",
    "plt.text(len(data_CC)+.5, data_CC['T2_CL'].iloc[0], 'median = {:.3f}'.format(data_CC['T2_CL'].iloc[0]), verticalalignment='center')\n",
    "# highlight the points that violate the alarm rules\n",
    "plt.plot(data_CC['T2_TEST'], linestyle='none', marker='s', color='r', markersize=10)\n",
    "plt.show()"
   ]
  },
  {
   "cell_type": "markdown",
   "metadata": {},
   "source": [
    "long period"
   ]
  },
  {
   "cell_type": "code",
   "execution_count": null,
   "metadata": {},
   "outputs": [],
   "source": [
    "# Calcolo del vettore medio\n",
    "Xbar = data.mean(axis=0)\n",
    "print(Xbar)\n",
    "\n",
    "# Inizializzazione della matrice di varianza S\n",
    "S = np.zeros((data.shape[1], data.shape[1]))\n",
    "\n",
    "# Calcolo della matrice di varianza S\n",
    "for i in range(m):\n",
    "    diff = data.iloc[i] - Xbar\n",
    "    S += np.outer(diff, diff)\n",
    "    # S += data.iloc[i]-Xbar.dot(data.iloc[i]-Xbar.transpose())\n",
    "\n",
    "S /= (m - 1)\n",
    "\n",
    "print(\"La matrice di varianza S è:\")\n",
    "print(S)\n",
    "\n",
    "S1 = S\n",
    "S1_inv = np.linalg.inv(S1)"
   ]
  },
  {
   "cell_type": "code",
   "execution_count": null,
   "metadata": {},
   "outputs": [],
   "source": [
    "# Calculate the Hotelling T2 statistic\n",
    "data_CC = data.copy()\n",
    "data_CC['T2'] = np.nan\n",
    "for i in range(data.shape[0]):\n",
    "    data_CC['T2'].iloc[i] = n * (data.iloc[i] - Xbar).transpose().dot(S1_inv).dot(data.iloc[i] - Xbar)\n",
    "\n",
    "# Now we can add the UCL, CL and LCL to the dataframe\n",
    "data_CC['T2_UCL'] = ((m-1)**2)/m*stats.beta.ppf(1 - alpha, p/2, (m-p-1)/2) \n",
    "\n",
    "#phase 2 limit\n",
    "#phase2_UCL = (p*(m-1)*(m+1))/(m*m-m*p)*stats.f.ppf(1 - alpha, p, m-p)\n",
    "\n",
    "data_CC['T2_CL'] = data_CC['T2'].median()\n",
    "data_CC['T2_LCL'] = 0\n",
    "\n",
    "# Add one column to test if the sample is out of control\n",
    "#data_CC['T2_TEST'] = np.where((data_CC['T2'] > data_CC['T2_UCL']), data_CC['T2'], np.nan)\n",
    "data_CC['T2_TEST'] = np.where((data_CC['T2'] > phase2_UCL), data_CC['T2'], np.nan)\n",
    "\n",
    "\n",
    "# Plot the T2 control chart\n",
    "plt.title('T2 control chart - long period & original data')\n",
    "plt.plot(data_CC['T2'], color='b', linestyle='--', marker='o')\n",
    "plt.plot(data_CC['T2_UCL'], color='r')\n",
    "plt.plot(data_CC['T2_CL'], color='g')\n",
    "plt.plot(data_CC['T2_LCL'], color='r')\n",
    "plt.axvline(x=m, color='black', linestyle=':', linewidth=2)\n",
    "plt.ylabel('T2 statistic')\n",
    "plt.xlabel('Sample number')\n",
    "# add the values of the control limits on the right side of the plot\n",
    "plt.text(len(data_CC)+.5, data_CC['T2_UCL'].iloc[0], 'UCL = {:.3f}'.format(data_CC['T2_UCL'].iloc[0]), verticalalignment='center')\n",
    "plt.text(len(data_CC)+.5, data_CC['T2_CL'].iloc[0], 'median = {:.3f}'.format(data_CC['T2_CL'].iloc[0]), verticalalignment='center')\n",
    "# highlight the points that violate the alarm rules\n",
    "plt.plot(data_CC['T2_TEST'], linestyle='none', marker='s', color='r', markersize=10)\n",
    "plt.show()\n"
   ]
  },
  {
   "cell_type": "markdown",
   "metadata": {},
   "source": [
    "Multiple univariate charts"
   ]
  },
  {
   "cell_type": "code",
   "execution_count": null,
   "metadata": {},
   "outputs": [],
   "source": [
    "# Bonferroni correction\n",
    "p=      #number of covariates\n",
    "alpha_fam=\n",
    "alpha=alpha_fam/p\n",
    "K_alpha = stats.norm.ppf(1-alpha/2)"
   ]
  },
  {
   "cell_type": "code",
   "execution_count": null,
   "metadata": {},
   "outputs": [],
   "source": [
    "for col in data.columns:\n",
    "\tdata_cc=pd.DataFrame(data[col])\n",
    "\tdata_IMR = qda.ControlCharts.IMR(data_cc,col,K = K_alpha)"
   ]
  }
 ],
 "metadata": {
  "kernelspec": {
   "display_name": "qda2",
   "language": "python",
   "name": "python3"
  },
  "language_info": {
   "codemirror_mode": {
    "name": "ipython",
    "version": 3
   },
   "file_extension": ".py",
   "mimetype": "text/x-python",
   "name": "python",
   "nbconvert_exporter": "python",
   "pygments_lexer": "ipython3",
   "version": "3.7.12"
  },
  "orig_nbformat": 4,
  "vscode": {
   "interpreter": {
    "hash": "f83e156cbcff9297b7b48d17cb0a2aa554376af383abb1a28c70ffb29fc29c0a"
   }
  }
 },
 "nbformat": 4,
 "nbformat_minor": 2
}
