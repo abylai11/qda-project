{
 "cells": [
  {
   "cell_type": "markdown",
   "metadata": {},
   "source": [
    "Hypothesis testing "
   ]
  },
  {
   "cell_type": "code",
   "execution_count": null,
   "metadata": {},
   "outputs": [],
   "source": [
    "mu0=10 # mean of the null hypothesis\n",
    "# Calculate the Z-statistic\n",
    "Z_0 = (np.mean(x1) - mu0) / (sigma / np.sqrt(n))\n",
    "\n",
    "# Compare the Z-statistic with the critical value\n",
    "alpha = 0.05   # significance level\n",
    "z_alpha2 = stats.norm.ppf(1-alpha/2)    #remind: inverse cumulative distribution function \n",
    "\n",
    "if np.abs(Z_0) > z_alpha2:\n",
    "    print('Reject the null hypothesis at alpha = %.2f' % alpha)\n",
    "else:\n",
    "    print('Accept the null hypothesis at alpha = %.2f' % alpha)"
   ]
  },
  {
   "cell_type": "code",
   "execution_count": null,
   "metadata": {},
   "outputs": [],
   "source": [
    "# Compute the confidence interval\n",
    "CI = [np.mean(x1) - z_alpha2 * sigma/np.sqrt(n), np.mean(x1) + z_alpha2 * sigma/np.sqrt(n)]\n",
    "print('Confidence interval: %.3f, %.3f' % (CI[0],CI[1]))\n",
    "\n",
    "# Or with the built-in function\n",
    "CI = stats.norm.interval(1-alpha, loc=np.mean(x1), scale=sigma/np.sqrt(n))\n",
    "print('Confidence interval: %.3f, %.3f' % (CI[0],CI[1]))"
   ]
  },
  {
   "cell_type": "code",
   "execution_count": null,
   "metadata": {},
   "outputs": [],
   "source": [
    "# pvalue\n",
    "pval = 2 * ( 1 - stats.norm.cdf(np.abs(Z_0)) )      #attention: bilateral rejection region\n",
    "print('p-value = %.3f' % pval)"
   ]
  },
  {
   "cell_type": "code",
   "execution_count": null,
   "metadata": {},
   "outputs": [],
   "source": [
    "# Power curve of the test\n",
    "\n",
    "delta = np.linspace(0, 30, 100)\n",
    "mu1 = mu0 + delta\n",
    "Z_alpha2 = stats.norm.ppf(1 - alpha / 2)\n",
    "\n",
    "plt.plot(delta, power_20, label = \"power (n = 20)\")\n",
    "plt.plot(delta, power_40, label = \"power (n = 40)\")\n",
    "plt.xlabel(\"delta\")\n",
    "plt.ylabel(\"power\")\n",
    "plt.grid(True)\n",
    "plt.legend()\n",
    "plt.show()"
   ]
  },
  {
   "cell_type": "code",
   "execution_count": null,
   "metadata": {},
   "outputs": [],
   "source": [
    "# Visualize the confidence interval on a dot plot\n",
    "plt.title('One-sided confidence interval for the mean with CL = %.2f' % CL)\n",
    "plt.scatter(data['d'], np.zeros(n), label='difference')\n",
    "# plot H0\n",
    "plt.scatter(delta0, -0.01, label='H_0', color='r', marker='x', s=100)\n",
    "# plot the confidence interval\n",
    "plt.scatter(CI_lower, -0.01, label='C.I.', color='r', marker='|', s=100)\n",
    "plt.plot([CI_lower, np.max(data['d'])], [-0.01, -0.01], color='r')\n",
    "plt.scatter(np.max(data['d']), -0.01, color='r', marker='>', s=100)\n",
    "# Add labels and legend\n",
    "plt.ylim(-0.03, 0.03)\n",
    "plt.xlabel('Difference (lbs)')\n",
    "plt.yticks([])\n",
    "plt.legend()\n",
    "plt.grid()\n",
    "plt.show()\n"
   ]
  },
  {
   "cell_type": "code",
   "execution_count": null,
   "metadata": {},
   "outputs": [],
   "source": [
    "# Power of test\n",
    "ratio = 1.5 # ratio between the variances of the two samples\n",
    "beta = stats.f.cdf(stats.f.ppf(1-alpha/2, df1, df2)/ratio, df1, df2) - stats.f.cdf(stats.f.ppf(alpha/2, df1, df2)/ratio, df1, df2)\n",
    "print('Power of the test: %.3f' % (1-beta))"
   ]
  },
  {
   "cell_type": "markdown",
   "metadata": {},
   "source": [
    "t-statistics"
   ]
  },
  {
   "cell_type": "code",
   "execution_count": null,
   "metadata": {},
   "outputs": [],
   "source": [
    "# Calculate the t-statistic\n",
    "t_0 = (np.mean(x1) - mu0) / (np.std(x1, ddof=1) / np.sqrt(n))\n",
    "\n",
    "# Compare the t-statistic with the critical value\n",
    "alpha = 0.05   # significance level\n",
    "t_alpha = stats.t.ppf(1-alpha, n-1)\n",
    "\n",
    "if t_0 > t_alpha:\n",
    "    print('Reject the null hypothesis at alpha = %.2f' % alpha)\n",
    "else:\n",
    "    print('Accept the null hypothesis at alpha = %.2f' % alpha)\n",
    "\n",
    "# Compute the confidence interval\n",
    "CI = np.mean(x1) - t_alpha * np.std(x1, ddof=1)/np.sqrt(n)\n",
    "print('Confidence interval (lower bound): %.3f' % (CI))\n",
    "\n",
    "#pvalue\n",
    "pval = 1 - stats.t.cdf(t_0,n-1)\n",
    "print('p-value = %.3f' % pval)"
   ]
  },
  {
   "cell_type": "code",
   "execution_count": null,
   "metadata": {},
   "outputs": [],
   "source": [
    "# Alternatively, you can use the stats.t.interval function\n",
    "CI = stats.t.interval(CL, df, loc=data['d'].mean(), scale=data['d'].std() / np.sqrt(n))\n",
    "print('Confidence interval: (%.3f, %.3f)' % (CI[0], CI[1]))"
   ]
  },
  {
   "cell_type": "code",
   "execution_count": null,
   "metadata": {},
   "outputs": [],
   "source": [
    "# With built-in function to make the t-test\n",
    "t_0, pval = stats.ttest_1samp(x1, mu0, alternative='greater')\n",
    "print('Test statistic t_0 = %.3f' % t_0)\n",
    "print('p-value = %.3f' % pval)"
   ]
  },
  {
   "cell_type": "markdown",
   "metadata": {},
   "source": [
    "Chi squared test"
   ]
  },
  {
   "cell_type": "code",
   "execution_count": null,
   "metadata": {},
   "outputs": [],
   "source": [
    "# Compute the one-sided CI on the variance\n",
    "df = n - 1      # Degrees of freedom\n",
    "chi2 = stats.chi2.ppf(alpha, df)\n",
    "CI_upper = df * data['Water content'].var() / chi2\n",
    "print('Upper bound of the one-sided CI on the variance: %.3f' % CI_upper)\n",
    "\n",
    "# Compute the two-sided CI on the variance\n",
    "chi2_1 = stats.chi2.ppf(alpha / 2, df)\n",
    "chi2_2 = stats.chi2.ppf(1 - alpha / 2, df)\n",
    "\n",
    "CI_var = [df * data['Water content'].var() / chi2_2,\n",
    "        df * data['Water content'].var() / chi2_1]\n",
    "\n",
    "CI_stdev_d = np.sqrt(CI_var)\n",
    "print('Two-sided CI on the standard deviation (CL = %.2f): [%.3f, %.3f]' % (CL, CI_stdev_d[0], CI_stdev_d[1]))"
   ]
  },
  {
   "cell_type": "markdown",
   "metadata": {},
   "source": [
    "Normality assumption tests"
   ]
  },
  {
   "cell_type": "code",
   "execution_count": null,
   "metadata": {},
   "outputs": [],
   "source": [
    "# Shapiro-Wilk test\n",
    "_, p_value_SW = stats.shapiro(data['x1'])\n",
    "print('p-value of the Shapiro-Wilk test: %.3f' % p_value_SW)\n",
    "\n",
    "# QQ-plot\n",
    "stats.probplot(data['x1'], dist='norm', plot=plt)\n",
    "plt.show()"
   ]
  },
  {
   "cell_type": "code",
   "execution_count": null,
   "metadata": {},
   "outputs": [],
   "source": [
    "# Anderson-Darling test\n",
    "def ADpvalue(data):\n",
    "    \"\"\"\n",
    "    This function computes the p-value of the Anderson-Darling test.\n",
    "    \n",
    "    Input:\n",
    "        data: data to be tested\n",
    "    Output:\n",
    "        p_value_AD: p-value of the Anderson-Darling test\n",
    "\n",
    "    \"\"\"\n",
    "    anderson = stats.anderson(data, dist='norm')\n",
    "    # compute the p-value of the Anderson-Darling test\n",
    "    if anderson.statistic >= 0.6:\n",
    "        p_value_AD = np.exp(1.2937 - 5.709*anderson.statistic + 0.0186*(anderson.statistic**2))\n",
    "    elif anderson.statistic >= 0.34:\n",
    "        p_value_AD = np.exp(0.9177 - 4.279*anderson.statistic - 1.38*(anderson.statistic**2))\n",
    "    elif anderson.statistic >= 0.2:\n",
    "        p_value_AD = 1 - np.exp(-8.318 + 42.796*anderson.statistic - 59.938*(anderson.statistic**2))\n",
    "    else:\n",
    "        p_value_AD = 1 - np.exp(-13.436 + 101.14*anderson.statistic - 223.73*(anderson.statistic**2))\n",
    "\n",
    "    return p_value_AD\n",
    "    \n",
    "p_value_AD = ADpvalue(data['Water content'])\n",
    "print('p-value of the Anderson-Darling test: %.3f' % p_value_AD)"
   ]
  },
  {
   "cell_type": "markdown",
   "metadata": {},
   "source": [
    "Variance assumptions"
   ]
  },
  {
   "cell_type": "code",
   "execution_count": null,
   "metadata": {},
   "outputs": [],
   "source": [
    "# Test the equality of variances\n",
    "# F-test\n",
    "F0 = data1.var()/data2.var()\n",
    "df1 = n1 - 1 # degrees of freedom for supplier 1\n",
    "df2 = n2 - 1 # degrees of freedom for supplier 2\n",
    "CI = [F0 * stats.f.ppf(alpha/2, df2, df1), F0 * stats.f.ppf(1-alpha/2, df2, df1)]\n",
    "print('Confidence interval on the ratio of variances (CL = %.2f): [%.3f, %.3f]' % (CL, CI[0], CI[1]))"
   ]
  },
  {
   "cell_type": "code",
   "execution_count": null,
   "metadata": {},
   "outputs": [],
   "source": [
    "# plot the cumulative probability\n",
    "x = np.linspace(0, 4, 100)\n",
    "plt.plot(x, stats.f.pdf(x, df1, df2), label='Distribution under H_0')\n",
    "\n",
    "# Adding Title, Labels and Grid\n",
    "plt.title(\"F Distribution, %d, %d\" % (df1, df2))\n",
    "plt.xlabel(\"Values\")\n",
    "plt.ylabel(\"Probability Density\")\n",
    "plt.grid(True)      \n",
    "\n",
    "# Filling the Probability Area\n",
    "F_1 = stats.f.ppf(alpha/2, df1, df2)\n",
    "F_2 = stats.f.ppf(1-alpha/2, df1, df2)\n",
    "x_fill = np.linspace(0, F_1, 100)\n",
    "y_fill = stats.f.pdf(x_fill, df1, df2)\n",
    "plt.fill_between(x_fill, y_fill, color='red', alpha=0.5)\n",
    "x_fill = np.linspace(F_2, np.max(x), 100)\n",
    "y_fill = stats.f.pdf(x_fill, df1, df2)\n",
    "plt.fill_between(x_fill, y_fill, color='red', alpha=0.5, label='Critical Regions')\n",
    "# Add text to the plot with the chi2 values and centering the text\n",
    "plt.text(F_1, 0.1, r'$F_{%.3f} = {%.3f}$' % (alpha/2, F_1), fontsize=10)\n",
    "plt.text(F_2, 0.1, r'$F_{%.3f} = {%.3f}$' % (1-alpha/2, F_2), fontsize=10)\n",
    "\n",
    "# Plot the test statistic F0\n",
    "plt.vlines(F0, 0, np.max(stats.f.pdf(x, df1, df2)), color='r', linestyle='--', label='F_0')\n",
    "plt.legend()\n",
    "plt.show()"
   ]
  },
  {
   "cell_type": "code",
   "execution_count": null,
   "metadata": {},
   "outputs": [],
   "source": [
    "# Compute the p-value\n",
    "p_value_F0 = 2 * stats.f.cdf(F0, df1, df2)\n",
    "print('p-value for F-test for equal variances: %.3f' % p_value_F0)"
   ]
  },
  {
   "cell_type": "code",
   "execution_count": null,
   "metadata": {},
   "outputs": [],
   "source": []
  }
 ],
 "metadata": {
  "kernelspec": {
   "display_name": "qda",
   "language": "python",
   "name": "python3"
  },
  "language_info": {
   "codemirror_mode": {
    "name": "ipython",
    "version": 3
   },
   "file_extension": ".py",
   "mimetype": "text/x-python",
   "name": "python",
   "nbconvert_exporter": "python",
   "pygments_lexer": "ipython3",
   "version": "3.7.16"
  },
  "vscode": {
   "interpreter": {
    "hash": "d8ec47cd585a786a2efbb520d554c7d611207870f64a3a0e1d27be6f7a4b38ad"
   }
  }
 },
 "nbformat": 4,
 "nbformat_minor": 2
}
