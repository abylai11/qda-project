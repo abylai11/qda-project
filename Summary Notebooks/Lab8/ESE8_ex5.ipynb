{
 "cells": [
  {
   "attachments": {},
   "cell_type": "markdown",
   "metadata": {},
   "source": [
    "# Exercise 5\n",
    "\n",
    "A pencil producer performs a process control by using 3 quality characteristics:\n",
    "1. Pencil diameter\n",
    "2. Ultimate tensile strength\n",
    "3. The ease of sliding on paper (glide)  \n",
    "\n",
    "Data referring to 20 samples of size $n=3$ are reported in the file `ESE8_ex5.csv`.\n",
    "\n",
    "Design an Hotelling $T^2$ control chart. "
   ]
  },
  {
   "attachments": {},
   "cell_type": "markdown",
   "metadata": {},
   "source": [
    "> ### Solution"
   ]
  },
  {
   "cell_type": "code",
   "execution_count": 1,
   "metadata": {},
   "outputs": [
    {
     "data": {
      "text/html": [
       "<div>\n",
       "<style scoped>\n",
       "    .dataframe tbody tr th:only-of-type {\n",
       "        vertical-align: middle;\n",
       "    }\n",
       "\n",
       "    .dataframe tbody tr th {\n",
       "        vertical-align: top;\n",
       "    }\n",
       "\n",
       "    .dataframe thead th {\n",
       "        text-align: right;\n",
       "    }\n",
       "</style>\n",
       "<table border=\"1\" class=\"dataframe\">\n",
       "  <thead>\n",
       "    <tr style=\"text-align: right;\">\n",
       "      <th></th>\n",
       "      <th>Sample</th>\n",
       "      <th>Diameter 1</th>\n",
       "      <th>Diameter 2</th>\n",
       "      <th>Diameter 3</th>\n",
       "      <th>Tensile strength 1</th>\n",
       "      <th>Tensile strength 2</th>\n",
       "      <th>Tensile strength 3</th>\n",
       "      <th>Glide 1</th>\n",
       "      <th>Glide 2</th>\n",
       "      <th>Glide 3</th>\n",
       "    </tr>\n",
       "  </thead>\n",
       "  <tbody>\n",
       "    <tr>\n",
       "      <th>0</th>\n",
       "      <td>1</td>\n",
       "      <td>2.3</td>\n",
       "      <td>-0.1</td>\n",
       "      <td>-1.4</td>\n",
       "      <td>3.48</td>\n",
       "      <td>2.72</td>\n",
       "      <td>2.28</td>\n",
       "      <td>5.85</td>\n",
       "      <td>5.53</td>\n",
       "      <td>4.46</td>\n",
       "    </tr>\n",
       "    <tr>\n",
       "      <th>1</th>\n",
       "      <td>2</td>\n",
       "      <td>-1.7</td>\n",
       "      <td>0.0</td>\n",
       "      <td>0.1</td>\n",
       "      <td>2.19</td>\n",
       "      <td>2.90</td>\n",
       "      <td>2.74</td>\n",
       "      <td>4.25</td>\n",
       "      <td>5.51</td>\n",
       "      <td>4.24</td>\n",
       "    </tr>\n",
       "    <tr>\n",
       "      <th>2</th>\n",
       "      <td>3</td>\n",
       "      <td>0.4</td>\n",
       "      <td>-0.1</td>\n",
       "      <td>0.4</td>\n",
       "      <td>2.89</td>\n",
       "      <td>2.81</td>\n",
       "      <td>3.24</td>\n",
       "      <td>6.83</td>\n",
       "      <td>5.01</td>\n",
       "      <td>4.65</td>\n",
       "    </tr>\n",
       "    <tr>\n",
       "      <th>3</th>\n",
       "      <td>4</td>\n",
       "      <td>-0.6</td>\n",
       "      <td>0.5</td>\n",
       "      <td>-0.7</td>\n",
       "      <td>2.66</td>\n",
       "      <td>2.98</td>\n",
       "      <td>2.51</td>\n",
       "      <td>6.00</td>\n",
       "      <td>6.40</td>\n",
       "      <td>4.47</td>\n",
       "    </tr>\n",
       "    <tr>\n",
       "      <th>4</th>\n",
       "      <td>5</td>\n",
       "      <td>0.2</td>\n",
       "      <td>0.4</td>\n",
       "      <td>-0.9</td>\n",
       "      <td>2.76</td>\n",
       "      <td>2.52</td>\n",
       "      <td>2.69</td>\n",
       "      <td>4.60</td>\n",
       "      <td>4.70</td>\n",
       "      <td>5.55</td>\n",
       "    </tr>\n",
       "  </tbody>\n",
       "</table>\n",
       "</div>"
      ],
      "text/plain": [
       "   Sample  Diameter 1  Diameter 2  Diameter 3  Tensile strength 1  \\\n",
       "0       1         2.3        -0.1        -1.4                3.48   \n",
       "1       2        -1.7         0.0         0.1                2.19   \n",
       "2       3         0.4        -0.1         0.4                2.89   \n",
       "3       4        -0.6         0.5        -0.7                2.66   \n",
       "4       5         0.2         0.4        -0.9                2.76   \n",
       "\n",
       "   Tensile strength 2  Tensile strength 3  Glide 1  Glide 2  Glide 3  \n",
       "0                2.72                2.28     5.85     5.53     4.46  \n",
       "1                2.90                2.74     4.25     5.51     4.24  \n",
       "2                2.81                3.24     6.83     5.01     4.65  \n",
       "3                2.98                2.51     6.00     6.40     4.47  \n",
       "4                2.52                2.69     4.60     4.70     5.55  "
      ]
     },
     "execution_count": 1,
     "metadata": {},
     "output_type": "execute_result"
    }
   ],
   "source": [
    "# Import the necessary libraries\n",
    "import numpy as np\n",
    "import matplotlib.pyplot as plt\n",
    "from scipy import stats\n",
    "import pandas as pd\n",
    "\n",
    "# Import the data\n",
    "data = pd.read_csv('ESE8_ex5.csv')\n",
    "\n",
    "# Inspect the data\n",
    "data.head()"
   ]
  },
  {
   "attachments": {},
   "cell_type": "markdown",
   "metadata": {},
   "source": [
    "> First of all we check the Marginal Normality"
   ]
  },
  {
   "cell_type": "code",
   "execution_count": 2,
   "metadata": {},
   "outputs": [
    {
     "name": "stdout",
     "output_type": "stream",
     "text": [
      "Shapiro-Wilk test on Diameter p-value = 0.348\n"
     ]
    },
    {
     "data": {
      "image/png": "[encoded data removed]",
      "text/plain": [
       "<Figure size 640x480 with 1 Axes>"
      ]
     },
     "metadata": {},
     "output_type": "display_data"
    }
   ],
   "source": [
    "diameter = data[['Diameter 1', 'Diameter 2', 'Diameter 3']]\n",
    "\n",
    "# Perform the Shapiro-Wilk test on the Diameter\n",
    "_, pval1_SW = stats.shapiro(diameter)\n",
    "print('Shapiro-Wilk test on Diameter p-value = %.3f' % pval1_SW)\n",
    "\n",
    "# Plot the qqplot\n",
    "stats.probplot(diameter.stack(), dist=\"norm\", plot=plt)\n",
    "plt.show()"
   ]
  },
  {
   "cell_type": "code",
   "execution_count": 3,
   "metadata": {},
   "outputs": [
    {
     "name": "stdout",
     "output_type": "stream",
     "text": [
      "Shapiro-Wilk test on Tensile strenght p-value = 0.433\n"
     ]
    },
    {
     "data": {
      "image/png": "[encoded data removed]",
      "text/plain": [
       "<Figure size 640x480 with 1 Axes>"
      ]
     },
     "metadata": {},
     "output_type": "display_data"
    }
   ],
   "source": [
    "uts = data[['Tensile strength 1', 'Tensile strength 2', 'Tensile strength 3']]\n",
    "\n",
    "# Perform the Shapiro-Wilk test on the Tensile strength\n",
    "_, pval2_SW = stats.shapiro(uts)\n",
    "print('Shapiro-Wilk test on Tensile strenght p-value = %.3f' % pval2_SW)\n",
    "\n",
    "# Plot the qqplot\n",
    "stats.probplot(uts.stack(), dist=\"norm\", plot=plt)\n",
    "plt.show()"
   ]
  },
  {
   "cell_type": "code",
   "execution_count": 4,
   "metadata": {},
   "outputs": [
    {
     "name": "stdout",
     "output_type": "stream",
     "text": [
      "Shapiro-Wilk test on Glide p-value = 0.352\n"
     ]
    },
    {
     "data": {
      "image/png": "[encoded data removed]",
      "text/plain": [
       "<Figure size 640x480 with 1 Axes>"
      ]
     },
     "metadata": {},
     "output_type": "display_data"
    }
   ],
   "source": [
    "glide = data[['Glide 1', 'Glide 2', 'Glide 3']]\n",
    "\n",
    "# Perform the Shapiro-Wilk test on the Glide\n",
    "_, pval3_SW = stats.shapiro(glide)\n",
    "print('Shapiro-Wilk test on Glide p-value = %.3f' % pval3_SW)\n",
    "\n",
    "# Plot the qqplot\n",
    "stats.probplot(glide.stack(), dist=\"norm\", plot=plt)\n",
    "plt.show()"
   ]
  },
  {
   "cell_type": "code",
   "execution_count": 5,
   "metadata": {},
   "outputs": [
    {
     "name": "stdout",
     "output_type": "stream",
     "text": [
      "diameter   -0.006667\n",
      "uts         2.735500\n",
      "glide       5.215333\n",
      "dtype: float64\n"
     ]
    }
   ],
   "source": [
    "# Create a new dataframe to store the sample mean\n",
    "sample_mean = pd.DataFrame()\n",
    "sample_mean['diameter'] = diameter.mean(axis=1)\n",
    "sample_mean['uts'] = uts.mean(axis=1)\n",
    "sample_mean['glide'] = glide.mean(axis=1)\n",
    "\n",
    "# Calculate the grand mean\n",
    "Xbarbar = sample_mean.mean()\n",
    "print(Xbarbar)"
   ]
  },
  {
   "cell_type": "code",
   "execution_count": 6,
   "metadata": {},
   "outputs": [
    {
     "data": {
      "text/html": [
       "<div>\n",
       "<style scoped>\n",
       "    .dataframe tbody tr th:only-of-type {\n",
       "        vertical-align: middle;\n",
       "    }\n",
       "\n",
       "    .dataframe tbody tr th {\n",
       "        vertical-align: top;\n",
       "    }\n",
       "\n",
       "    .dataframe thead th {\n",
       "        text-align: right;\n",
       "    }\n",
       "</style>\n",
       "<table border=\"1\" class=\"dataframe\">\n",
       "  <thead>\n",
       "    <tr style=\"text-align: right;\">\n",
       "      <th></th>\n",
       "      <th>sample</th>\n",
       "      <th>diameter</th>\n",
       "      <th>uts</th>\n",
       "      <th>glide</th>\n",
       "    </tr>\n",
       "  </thead>\n",
       "  <tbody>\n",
       "    <tr>\n",
       "      <th>0</th>\n",
       "      <td>0</td>\n",
       "      <td>2.3</td>\n",
       "      <td>3.48</td>\n",
       "      <td>5.85</td>\n",
       "    </tr>\n",
       "    <tr>\n",
       "      <th>1</th>\n",
       "      <td>0</td>\n",
       "      <td>-0.1</td>\n",
       "      <td>2.72</td>\n",
       "      <td>5.53</td>\n",
       "    </tr>\n",
       "    <tr>\n",
       "      <th>2</th>\n",
       "      <td>0</td>\n",
       "      <td>-1.4</td>\n",
       "      <td>2.28</td>\n",
       "      <td>4.46</td>\n",
       "    </tr>\n",
       "    <tr>\n",
       "      <th>3</th>\n",
       "      <td>1</td>\n",
       "      <td>-1.7</td>\n",
       "      <td>2.19</td>\n",
       "      <td>4.25</td>\n",
       "    </tr>\n",
       "    <tr>\n",
       "      <th>4</th>\n",
       "      <td>1</td>\n",
       "      <td>0.0</td>\n",
       "      <td>2.90</td>\n",
       "      <td>5.51</td>\n",
       "    </tr>\n",
       "    <tr>\n",
       "      <th>5</th>\n",
       "      <td>1</td>\n",
       "      <td>0.1</td>\n",
       "      <td>2.74</td>\n",
       "      <td>4.24</td>\n",
       "    </tr>\n",
       "    <tr>\n",
       "      <th>6</th>\n",
       "      <td>2</td>\n",
       "      <td>0.4</td>\n",
       "      <td>2.89</td>\n",
       "      <td>6.83</td>\n",
       "    </tr>\n",
       "    <tr>\n",
       "      <th>7</th>\n",
       "      <td>2</td>\n",
       "      <td>-0.1</td>\n",
       "      <td>2.81</td>\n",
       "      <td>5.01</td>\n",
       "    </tr>\n",
       "    <tr>\n",
       "      <th>8</th>\n",
       "      <td>2</td>\n",
       "      <td>0.4</td>\n",
       "      <td>3.24</td>\n",
       "      <td>4.65</td>\n",
       "    </tr>\n",
       "  </tbody>\n",
       "</table>\n",
       "</div>"
      ],
      "text/plain": [
       "   sample  diameter   uts  glide\n",
       "0       0       2.3  3.48   5.85\n",
       "1       0      -0.1  2.72   5.53\n",
       "2       0      -1.4  2.28   4.46\n",
       "3       1      -1.7  2.19   4.25\n",
       "4       1       0.0  2.90   5.51\n",
       "5       1       0.1  2.74   4.24\n",
       "6       2       0.4  2.89   6.83\n",
       "7       2      -0.1  2.81   5.01\n",
       "8       2       0.4  3.24   4.65"
      ]
     },
     "execution_count": 6,
     "metadata": {},
     "output_type": "execute_result"
    }
   ],
   "source": [
    "# Create a new dataframe to store the stacked data\n",
    "data_stack = pd.DataFrame()\n",
    "data_stack[['sample', 'diameter']] = diameter.transpose().melt()\n",
    "data_stack['uts'] = uts.transpose().melt()['value']\n",
    "data_stack['glide'] = glide.transpose().melt()['value']\n",
    "\n",
    "data_stack.head(9)"
   ]
  },
  {
   "cell_type": "code",
   "execution_count": 7,
   "metadata": {},
   "outputs": [
    {
     "data": {
      "text/html": [
       "<div>\n",
       "<style scoped>\n",
       "    .dataframe tbody tr th:only-of-type {\n",
       "        vertical-align: middle;\n",
       "    }\n",
       "\n",
       "    .dataframe tbody tr th {\n",
       "        vertical-align: top;\n",
       "    }\n",
       "\n",
       "    .dataframe thead th {\n",
       "        text-align: right;\n",
       "    }\n",
       "</style>\n",
       "<table border=\"1\" class=\"dataframe\">\n",
       "  <thead>\n",
       "    <tr style=\"text-align: right;\">\n",
       "      <th></th>\n",
       "      <th></th>\n",
       "      <th>diameter</th>\n",
       "      <th>uts</th>\n",
       "      <th>glide</th>\n",
       "    </tr>\n",
       "    <tr>\n",
       "      <th>sample</th>\n",
       "      <th></th>\n",
       "      <th></th>\n",
       "      <th></th>\n",
       "      <th></th>\n",
       "    </tr>\n",
       "  </thead>\n",
       "  <tbody>\n",
       "    <tr>\n",
       "      <th rowspan=\"3\" valign=\"top\">0</th>\n",
       "      <th>diameter</th>\n",
       "      <td>3.523333</td>\n",
       "      <td>1.139333</td>\n",
       "      <td>1.217000</td>\n",
       "    </tr>\n",
       "    <tr>\n",
       "      <th>uts</th>\n",
       "      <td>1.139333</td>\n",
       "      <td>0.368533</td>\n",
       "      <td>0.397000</td>\n",
       "    </tr>\n",
       "    <tr>\n",
       "      <th>glide</th>\n",
       "      <td>1.217000</td>\n",
       "      <td>0.397000</td>\n",
       "      <td>0.529900</td>\n",
       "    </tr>\n",
       "    <tr>\n",
       "      <th rowspan=\"3\" valign=\"top\">1</th>\n",
       "      <th>diameter</th>\n",
       "      <td>1.023333</td>\n",
       "      <td>0.363500</td>\n",
       "      <td>0.332833</td>\n",
       "    </tr>\n",
       "    <tr>\n",
       "      <th>uts</th>\n",
       "      <td>0.363500</td>\n",
       "      <td>0.138700</td>\n",
       "      <td>0.182050</td>\n",
       "    </tr>\n",
       "    <tr>\n",
       "      <th>glide</th>\n",
       "      <td>0.332833</td>\n",
       "      <td>0.182050</td>\n",
       "      <td>0.533433</td>\n",
       "    </tr>\n",
       "    <tr>\n",
       "      <th rowspan=\"3\" valign=\"top\">2</th>\n",
       "      <th>diameter</th>\n",
       "      <td>0.083333</td>\n",
       "      <td>0.042500</td>\n",
       "      <td>0.121667</td>\n",
       "    </tr>\n",
       "    <tr>\n",
       "      <th>uts</th>\n",
       "      <td>0.042500</td>\n",
       "      <td>0.052300</td>\n",
       "      <td>-0.128700</td>\n",
       "    </tr>\n",
       "    <tr>\n",
       "      <th>glide</th>\n",
       "      <td>0.121667</td>\n",
       "      <td>-0.128700</td>\n",
       "      <td>1.365733</td>\n",
       "    </tr>\n",
       "  </tbody>\n",
       "</table>\n",
       "</div>"
      ],
      "text/plain": [
       "                 diameter       uts     glide\n",
       "sample                                       \n",
       "0      diameter  3.523333  1.139333  1.217000\n",
       "       uts       1.139333  0.368533  0.397000\n",
       "       glide     1.217000  0.397000  0.529900\n",
       "1      diameter  1.023333  0.363500  0.332833\n",
       "       uts       0.363500  0.138700  0.182050\n",
       "       glide     0.332833  0.182050  0.533433\n",
       "2      diameter  0.083333  0.042500  0.121667\n",
       "       uts       0.042500  0.052300 -0.128700\n",
       "       glide     0.121667 -0.128700  1.365733"
      ]
     },
     "execution_count": 7,
     "metadata": {},
     "output_type": "execute_result"
    }
   ],
   "source": [
    "# Compute the variance and covariance matrix of each group (sample)\n",
    "cov_matrix = data_stack.groupby('sample').cov()\n",
    "\n",
    "cov_matrix.head(9)"
   ]
  },
  {
   "cell_type": "code",
   "execution_count": 8,
   "metadata": {},
   "outputs": [
    {
     "name": "stdout",
     "output_type": "stream",
     "text": [
      "          diameter       uts     glide\n",
      "diameter  0.910167  0.229467  0.271600\n",
      "glide     0.271600  0.138368  0.473593\n",
      "uts       0.229467  0.134328  0.138368\n"
     ]
    }
   ],
   "source": [
    "# Compute the mean covariance matrix\n",
    "S = cov_matrix.groupby(level=1).mean()\n",
    "\n",
    "print(S)"
   ]
  },
  {
   "attachments": {},
   "cell_type": "markdown",
   "metadata": {},
   "source": [
    "> Attention! The indeces are now in alphabetic order. We need to reorder them in the order of the variables to get the correct variance/covariance matrix."
   ]
  },
  {
   "cell_type": "code",
   "execution_count": 9,
   "metadata": {},
   "outputs": [
    {
     "name": "stdout",
     "output_type": "stream",
     "text": [
      "          diameter       uts     glide\n",
      "diameter  0.910167  0.229467  0.271600\n",
      "uts       0.229467  0.134328  0.138368\n",
      "glide     0.271600  0.138368  0.473593\n"
     ]
    }
   ],
   "source": [
    "# Reorder the indeces of S to match the order of the columns\n",
    "# get the names of the columns\n",
    "cols = S.columns.tolist()\n",
    "\n",
    "S = S.reindex(columns=cols, index=cols)\n",
    "\n",
    "print(S)"
   ]
  },
  {
   "attachments": {},
   "cell_type": "markdown",
   "metadata": {},
   "source": [
    "> Now we can compute the T<sup>2</sup> Control Chart"
   ]
  },
  {
   "cell_type": "code",
   "execution_count": 10,
   "metadata": {},
   "outputs": [
    {
     "data": {
      "text/html": [
       "<div>\n",
       "<style scoped>\n",
       "    .dataframe tbody tr th:only-of-type {\n",
       "        vertical-align: middle;\n",
       "    }\n",
       "\n",
       "    .dataframe tbody tr th {\n",
       "        vertical-align: top;\n",
       "    }\n",
       "\n",
       "    .dataframe thead th {\n",
       "        text-align: right;\n",
       "    }\n",
       "</style>\n",
       "<table border=\"1\" class=\"dataframe\">\n",
       "  <thead>\n",
       "    <tr style=\"text-align: right;\">\n",
       "      <th></th>\n",
       "      <th>diameter</th>\n",
       "      <th>uts</th>\n",
       "      <th>glide</th>\n",
       "      <th>T2</th>\n",
       "      <th>T2_UCL</th>\n",
       "      <th>T2_CL</th>\n",
       "      <th>T2_LCL</th>\n",
       "      <th>T2_TEST</th>\n",
       "    </tr>\n",
       "  </thead>\n",
       "  <tbody>\n",
       "    <tr>\n",
       "      <th>0</th>\n",
       "      <td>0.266667</td>\n",
       "      <td>2.826667</td>\n",
       "      <td>5.280000</td>\n",
       "      <td>0.278341</td>\n",
       "      <td>16.898109</td>\n",
       "      <td>2.09881</td>\n",
       "      <td>0</td>\n",
       "      <td>NaN</td>\n",
       "    </tr>\n",
       "    <tr>\n",
       "      <th>1</th>\n",
       "      <td>-0.533333</td>\n",
       "      <td>2.610000</td>\n",
       "      <td>4.666667</td>\n",
       "      <td>2.363377</td>\n",
       "      <td>16.898109</td>\n",
       "      <td>2.09881</td>\n",
       "      <td>0</td>\n",
       "      <td>NaN</td>\n",
       "    </tr>\n",
       "    <tr>\n",
       "      <th>2</th>\n",
       "      <td>0.233333</td>\n",
       "      <td>2.980000</td>\n",
       "      <td>5.496667</td>\n",
       "      <td>1.533608</td>\n",
       "      <td>16.898109</td>\n",
       "      <td>2.09881</td>\n",
       "      <td>0</td>\n",
       "      <td>NaN</td>\n",
       "    </tr>\n",
       "    <tr>\n",
       "      <th>3</th>\n",
       "      <td>-0.266667</td>\n",
       "      <td>2.716667</td>\n",
       "      <td>5.623333</td>\n",
       "      <td>2.098853</td>\n",
       "      <td>16.898109</td>\n",
       "      <td>2.09881</td>\n",
       "      <td>0</td>\n",
       "      <td>NaN</td>\n",
       "    </tr>\n",
       "    <tr>\n",
       "      <th>4</th>\n",
       "      <td>-0.100000</td>\n",
       "      <td>2.656667</td>\n",
       "      <td>4.950000</td>\n",
       "      <td>0.467668</td>\n",
       "      <td>16.898109</td>\n",
       "      <td>2.09881</td>\n",
       "      <td>0</td>\n",
       "      <td>NaN</td>\n",
       "    </tr>\n",
       "  </tbody>\n",
       "</table>\n",
       "</div>"
      ],
      "text/plain": [
       "   diameter       uts     glide        T2     T2_UCL    T2_CL  T2_LCL  T2_TEST\n",
       "0  0.266667  2.826667  5.280000  0.278341  16.898109  2.09881       0      NaN\n",
       "1 -0.533333  2.610000  4.666667  2.363377  16.898109  2.09881       0      NaN\n",
       "2  0.233333  2.980000  5.496667  1.533608  16.898109  2.09881       0      NaN\n",
       "3 -0.266667  2.716667  5.623333  2.098853  16.898109  2.09881       0      NaN\n",
       "4 -0.100000  2.656667  4.950000  0.467668  16.898109  2.09881       0      NaN"
      ]
     },
     "execution_count": 10,
     "metadata": {},
     "output_type": "execute_result"
    }
   ],
   "source": [
    "p = 3           # number of random variables\n",
    "m = len(data)   # number of samples\n",
    "n = 3           # number of replicates (sample size)\n",
    "alpha = 0.0027  # significance level\n",
    "\n",
    "S_inv = np.linalg.inv(S)\n",
    "\n",
    "# Create a new dataframe to store the T2 statistics\n",
    "data_CC = sample_mean.copy()\n",
    "data_CC['T2'] = np.nan\n",
    "\n",
    "for i in range(m):\n",
    "    data_CC['T2'].iloc[i] = n * (sample_mean.iloc[i] - Xbarbar).transpose().dot(S_inv).dot(sample_mean.iloc[i] - Xbarbar)\n",
    "\n",
    "# Now we can add the UCL, CL and LCL to the dataframe\n",
    "data_CC['T2_UCL'] = (p*(m-1)*(n-1))/(m*(n-1)-(p-1))*stats.f.ppf(1-alpha, p, m*n-m+1-p)\n",
    "data_CC['T2_CL'] = data_CC['T2'].median()\n",
    "data_CC['T2_LCL'] = 0\n",
    "\n",
    "# Add one column to test if the sample is out of control\n",
    "data_CC['T2_TEST'] = np.where((data_CC['T2'] > data_CC['T2_UCL']), data_CC['T2'], np.nan)\n",
    "\n",
    "# Inspect the dataset\n",
    "data_CC.head()"
   ]
  },
  {
   "cell_type": "code",
   "execution_count": 11,
   "metadata": {},
   "outputs": [
    {
     "data": {
      "image/png": "[encoded data removed]",
      "text/plain": [
       "<Figure size 640x480 with 1 Axes>"
      ]
     },
     "metadata": {},
     "output_type": "display_data"
    }
   ],
   "source": [
    "# Plot the T2 control chart\n",
    "plt.title('T2 control chart')\n",
    "plt.plot(data_CC['T2'], color='b', linestyle='--', marker='o')\n",
    "plt.plot(data_CC['T2_UCL'], color='r')\n",
    "plt.plot(data_CC['T2_CL'], color='g')\n",
    "plt.plot(data_CC['T2_LCL'], color='r')\n",
    "plt.ylabel('T2 statistic')\n",
    "plt.xlabel('Sample number')\n",
    "# add the values of the control limits on the right side of the plot\n",
    "plt.text(len(data_CC)+.5, data_CC['T2_UCL'].iloc[0], 'UCL = {:.3f}'.format(data_CC['T2_UCL'].iloc[0]), verticalalignment='center')\n",
    "plt.text(len(data_CC)+.5, data_CC['T2_CL'].iloc[0], 'median = {:.3f}'.format(data_CC['T2_CL'].iloc[0]), verticalalignment='center')\n",
    "# highlight the points that violate the alarm rules\n",
    "plt.plot(data_CC['T2_TEST'], linestyle='none', marker='s', color='r', markersize=10)\n",
    "plt.show()"
   ]
  }
 ],
 "metadata": {
  "kernelspec": {
   "display_name": "qda_environment_windows_v2",
   "language": "python",
   "name": "python3"
  },
  "language_info": {
   "codemirror_mode": {
    "name": "ipython",
    "version": 3
   },
   "file_extension": ".py",
   "mimetype": "text/x-python",
   "name": "python",
   "nbconvert_exporter": "python",
   "pygments_lexer": "ipython3",
   "version": "3.7.16"
  },
  "orig_nbformat": 4
 },
 "nbformat": 4,
 "nbformat_minor": 2
}
