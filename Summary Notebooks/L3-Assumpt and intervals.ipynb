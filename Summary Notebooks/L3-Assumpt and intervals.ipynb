{
 "cells": [
  {
   "cell_type": "markdown",
   "metadata": {},
   "source": [
    "Assumptions correction"
   ]
  },
  {
   "cell_type": "code",
   "execution_count": null,
   "metadata": {},
   "outputs": [],
   "source": [
    "# Number of points above the mean\n",
    "m = np.sum(data > mean).values[0]\n",
    "print('Number of points above the mean, m = %d' % m) \n",
    "\n",
    "#using count function\n",
    "m = data[data > mean].count()\n",
    "print('Number of points above the mean, m = %d' % m) "
   ]
  },
  {
   "cell_type": "code",
   "execution_count": null,
   "metadata": {},
   "outputs": [],
   "source": [
    "# Create a new series with the mean subtracted from the original series to check sign\n",
    "new_series = np.array(data - mean).flatten()\n",
    "\n",
    "# Count how many times the sign changes \n",
    "runs = (np.sum(np.diff(np.sign(new_series)) != 0) + 1)\n",
    "print('Number of runs = %d' % runs) #number of runs"
   ]
  },
  {
   "cell_type": "code",
   "execution_count": null,
   "metadata": {},
   "outputs": [],
   "source": [
    "#Expected number of runs\n",
    "exp_runs= 2*m*(n-m)/n +1\n",
    "print('Expected number of runs = %.3f' % exp_runs)"
   ]
  },
  {
   "cell_type": "code",
   "execution_count": null,
   "metadata": {},
   "outputs": [],
   "source": [
    "# Standard deviation of the number of runs\n",
    "std_runs = np.sqrt((2*m*(n-m)*(2*m*(n-m)-n)/((n**2)*(n-1))))\n",
    "print('Standard deviation of runs = %.03f' % std_runs)\n",
    "\n",
    "#95% confidence interval\n",
    "conf_int= stats.norm.interval(0.95, loc=exp_runs, scale=std_runs)\n",
    "print('Confidence interval: (%.3f, %.3f)' % (conf_int[0], conf_int[1]))"
   ]
  },
  {
   "cell_type": "code",
   "execution_count": null,
   "metadata": {},
   "outputs": [],
   "source": [
    "# H0: data is random\n",
    "\n",
    "alpha = 0.05 # significance level\n",
    "#test statistic\n",
    "z0 = (runs-exp_runs)/std_runs\n",
    "z0 = z0.values[0]\n",
    "print('z0 = %f' % z0)\n",
    "z_alfa2= stats.norm.ppf(1-alpha/2)\n",
    "print('z_alfa2 = %f' % z_alfa2)\n",
    "\n",
    "if abs(z0)>z_alfa2:\n",
    "  print('The null hypothesis is rejected')\n",
    "else: \n",
    "  print('The null hypothesis is accepted')\n",
    "\n",
    "\n",
    "# Remember, it is a two-tailed test, so we need to multiply the p-value by 2\n",
    "p_value = 2 * (1 - stats.norm.cdf(abs(z0)))\n",
    "print('p-value = %.3f' % p_value)"
   ]
  },
  {
   "cell_type": "code",
   "execution_count": null,
   "metadata": {},
   "outputs": [],
   "source": [
    "# Or with command\n",
    "stat, pval_runs = runstest_1samp(data['Ex1'], correction=False)\n",
    "print('Runs test statistic = {:.3f}'.format(stat))\n",
    "print('Runs test p-value = {:.3f}'.format(pval_runs))"
   ]
  },
  {
   "cell_type": "code",
   "execution_count": null,
   "metadata": {},
   "outputs": [],
   "source": [
    "#Autocorrelation graph\n",
    "# acf test\n",
    "sgt.plot_acf(data['Ex2'], lags = int(len(data)/3), zero=False)\n",
    "plt.show()"
   ]
  },
  {
   "cell_type": "code",
   "execution_count": null,
   "metadata": {},
   "outputs": [],
   "source": [
    "# Box-Cox transformation\n",
    "\n",
    "[data_norm, lmbda] = stats.boxcox(data[''])\n",
    "#data_norm = stats.boxcox(data[''], lmbda = )\n",
    "\n",
    "print('Lambda = %.3f' % lmbda)\n",
    "\n",
    "plt.hist(data_norm)\n",
    "plt.title('Histogram of Box-Cox transformed data')\n",
    "plt.show()"
   ]
  },
  {
   "cell_type": "code",
   "execution_count": null,
   "metadata": {},
   "outputs": [],
   "source": [
    "#Bartlett's test at lag 1\n",
    "alpha = 0.05\n",
    "lag_test = 1\n",
    "rk = acf_values[lag_test]\n",
    "z_alpha2 = stats.norm.ppf(1-alpha/2)\n",
    "print('Test statistic rk = %f' % rk)\n",
    "print('Rejection region starts at %f' % (z_alpha2/np.sqrt(n)))\n",
    "\n",
    "if rk>z_alpha2/np.sqrt(n):\n",
    "    print('The null hypothesis is rejected')\n",
    "else: print('The null hypothesis is accepted')"
   ]
  },
  {
   "cell_type": "code",
   "execution_count": null,
   "metadata": {},
   "outputs": [],
   "source": [
    "lag_test = 6 # this is just an example; \n",
    "\n",
    "# Generally speaking: how many lags?\n",
    "# Rule of thumb: L<sqrt(n)\n",
    "\n",
    "Q0_LBQ = lbq[lag_test-1]\n",
    "print('Q0_LBQ = %f' % Q0_LBQ)\n",
    "\n",
    "#Rejection region for chi square distribution \n",
    "dof = lag_test\n",
    "chi2_alfa= stats.chi2.ppf(1-alpha,dof)\n",
    "print('Rejection region starts at %f' % chi2_alfa)\n",
    "\n",
    "if Q0_LBQ>chi2_alfa:        \n",
    "  print('The null hypothesis is rejected')                \n",
    "else: \n",
    "  print('The null hypothesis is accepted')\n",
    "\n",
    "# Compute the p-value for the LBQ test\n",
    "pval = 1 - stats.chi2.cdf(Q0_LBQ, lag_test)\n",
    "print('p-value = %f' % pval)"
   ]
  },
  {
   "cell_type": "code",
   "execution_count": null,
   "metadata": {},
   "outputs": [],
   "source": [
    "#LBQ test for autocorrelation\n",
    "from statsmodels.stats.diagnostic import acorr_ljungbox\n",
    "\n",
    "lbq_test = acorr_ljungbox(data_norm, lags=[lag_test], return_df=True)\n",
    "print('LBQ test statistic at lag %d = %f' % (lag_test, lbq_test.loc[lag_test,'lb_stat']))\n",
    "print('LBQ test p-value at lag %d = %f' % (lag_test, lbq_test.loc[lag_test,'lb_pvalue']))"
   ]
  },
  {
   "cell_type": "markdown",
   "metadata": {},
   "source": [
    "Gapping"
   ]
  },
  {
   "cell_type": "code",
   "execution_count": null,
   "metadata": {},
   "outputs": [],
   "source": [
    "#Gapping \n",
    "gap_size= 6 # this is just an example, you can try different gapping intervals\n",
    "gap_num= int(len(data)/gap_size)\n",
    "\n",
    "gap_data= np.zeros((gap_num))\n",
    "for i in range (gap_num):\n",
    "    gap_data[i]=data['Ex3'][i*6]"
   ]
  },
  {
   "cell_type": "code",
   "execution_count": null,
   "metadata": {},
   "outputs": [],
   "source": [
    "# built in\n",
    "# Take one data point every 6\n",
    "gap_data = data['Ex3'][::gap_size]"
   ]
  },
  {
   "cell_type": "markdown",
   "metadata": {},
   "source": [
    "Batching"
   ]
  },
  {
   "cell_type": "code",
   "execution_count": null,
   "metadata": {},
   "outputs": [],
   "source": [
    "# Batching\n",
    "batch_size = 6\n",
    "batch_num = int(len(data)/batch_size)\n",
    "\n",
    "j=0\n",
    "batch_data = np.zeros((batch_num))\n",
    "for i in range (batch_num):\n",
    "    batch_data[i]=np.sum(data['Ex3'][j:j+batch_size])/batch_size\n",
    "    j=j+batch_size"
   ]
  },
  {
   "cell_type": "code",
   "execution_count": null,
   "metadata": {},
   "outputs": [],
   "source": [
    "# Alternative method\n",
    "# Create a new column in the dataframe with the corresponding batch number\n",
    "data['Batch'] = np.repeat(np.arange(1, batch_num+1), batch_size)\n",
    "\n",
    "# Store the batch means in a new dataframe\n",
    "batch_data = data.groupby('Batch').mean()"
   ]
  },
  {
   "cell_type": "code",
   "execution_count": null,
   "metadata": {},
   "outputs": [],
   "source": []
  },
  {
   "cell_type": "markdown",
   "metadata": {},
   "source": [
    "Prediction interval"
   ]
  },
  {
   "cell_type": "code",
   "execution_count": null,
   "metadata": {},
   "outputs": [],
   "source": [
    "# Normal data, want interval on future observations\n",
    "alpha = 0.05\n",
    "df = len(data) - 1\n",
    "Xbar = data.mean()\n",
    "s = data.std()\n",
    "t_alpha = stats.t.ppf(1 - alpha/2, df)\n",
    "\n",
    "[pred_lo, pred_up] = [Xbar-t_alpha*s,Xbar+t_alpha*s]\n",
    "print('Two-sided prediction interval for transformed data: [%.3f %.3f]' % (pred_lo, pred_up))"
   ]
  },
  {
   "cell_type": "code",
   "execution_count": null,
   "metadata": {},
   "outputs": [],
   "source": [
    "#if data were transformed -> need to back to original\n",
    "#if boxcox\n",
    "[pred_lo_ORIG, pred_up_ORIG] = [(pred_lo*lmbda+1)**(1/lmbda),(pred_up*lmbda+1)**(1/lmbda)]\n",
    "print('Two-sided prediction interval for original data: [%.3f %.3f]' % (pred_lo_ORIG, pred_up_ORIG))"
   ]
  },
  {
   "cell_type": "markdown",
   "metadata": {},
   "source": [
    "### Models"
   ]
  },
  {
   "cell_type": "markdown",
   "metadata": {},
   "source": [
    "Confidence Intervals on coeff"
   ]
  },
  {
   "cell_type": "code",
   "execution_count": null,
   "metadata": {},
   "outputs": [],
   "source": [
    "# Confidence Intervals on regression coefficients\n",
    "beta1 = model.params['lag1']\n",
    "print('The estimated coefficient beta1 is %.3f' % beta1)\n",
    "\n",
    "se_beta1 = model.bse['lag1']\n",
    "print('The standard error of the estimated coefficient beta1 is %.3f' % se_beta1)\n",
    "\n",
    "alpha = 0.05\n",
    "n = len(data)\n",
    "t_alpha2 = stats.t.ppf(1-alpha/2, n-2)\n",
    "\n",
    "CI_beta1 = [beta1 - t_alpha2*se_beta1, beta1 + t_alpha2*se_beta1]\n",
    "\n",
    "print('The confidence interval for beta1 is [%.3f, %.3f]' % (CI_beta1[0], CI_beta1[1]))"
   ]
  },
  {
   "cell_type": "code",
   "execution_count": null,
   "metadata": {},
   "outputs": [],
   "source": [
    "# Or with command\n",
    "CI_beta1 = model.conf_int(alpha=0.05).loc['lag1']\n",
    "print('The confidence interval for beta1 is [%.3f, %.3f]' % (CI_beta1[0], CI_beta1[1]))"
   ]
  },
  {
   "cell_type": "markdown",
   "metadata": {},
   "source": [
    "Prediction intervals"
   ]
  },
  {
   "cell_type": "code",
   "execution_count": null,
   "metadata": {},
   "outputs": [],
   "source": [
    "Xbar = data['lag1'].mean()          # sample mean of the regressor\n",
    "S2_X = data['lag1'].var()           # sample variance of the regressor\n",
    "\n",
    "p = len(model.model.exog_names)     # number of regressors\n",
    "S2_Y = np.var(model.resid, ddof=p)  # sample variance of residuals\n",
    "\n",
    "alpha = 0.05\n",
    "t_alpha = stats.t.ppf(1-alpha/2, n-2)"
   ]
  },
  {
   "cell_type": "code",
   "execution_count": null,
   "metadata": {},
   "outputs": [],
   "source": [
    "#predict future outcomes using the regression model\n",
    "last_lag = data['Ex4'].iloc[-1]\n",
    "print('X_35 = %.3f' % last_lag)\n",
    "\n",
    "#predict the next value\n",
    "Yhat = model.predict([1,last_lag])\n",
    "print('Next process outcome = %.3f' % Yhat)"
   ]
  },
  {
   "cell_type": "code",
   "execution_count": null,
   "metadata": {},
   "outputs": [],
   "source": [
    "# Calculate the confidence interval on mean response\n",
    "CI = [Yhat - t_alpha*np.sqrt(S2_Y*(1/n + ((last_lag - Xbar)**2)/((n-1)*S2_X))),\n",
    "        Yhat + t_alpha*np.sqrt(S2_Y*(1/n + ((last_lag - Xbar)**2)/((n-1)*S2_X)))]\n",
    "print('The confidence interval for the mean response is [%.3f, %.3f]' % (CI[0], CI[1]))"
   ]
  },
  {
   "cell_type": "code",
   "execution_count": null,
   "metadata": {},
   "outputs": [],
   "source": [
    "# Calculate the PREDICTION interval\n",
    "PI = [Yhat - t_alpha*np.sqrt(S2_Y*(1 + 1/n + ((last_lag - Xbar)**2)/((n-1)*S2_X))),\n",
    "        Yhat + t_alpha*np.sqrt(S2_Y*(1 + 1/n + ((last_lag - Xbar)**2)/((n-1)*S2_X)))]\n",
    "\n",
    "print('The prediction interval for the next value is [%.5f, %.5f]' % (PI[0], PI[1]))"
   ]
  },
  {
   "cell_type": "code",
   "execution_count": null,
   "metadata": {},
   "outputs": [],
   "source": [
    "# Plot interval\n",
    "sns.regplot(x='lag1', y='value', data=data, fit_reg=True, ci=95, line_kws={'color': 'red', 'lw': 2, 'ls': '--'})\n",
    "plt.title('Scatter plot of X(t) vs X(t-1)')\n",
    "plt.xlabel('X(t-1)')\n",
    "plt.ylabel('X(t)')\n",
    "plt.grid()"
   ]
  },
  {
   "cell_type": "code",
   "execution_count": null,
   "metadata": {},
   "outputs": [],
   "source": [
    "# Or with command\n",
    "prediction_df = model.get_prediction([1,last_lag]).summary_frame(alpha=0.05)\n",
    "print(prediction_df)"
   ]
  },
  {
   "cell_type": "code",
   "execution_count": null,
   "metadata": {},
   "outputs": [],
   "source": [
    "# get the range of values for the regressor\n",
    "x_range = np.linspace(data['lag1'].min(), data['lag1'].max(), 100)\n",
    "\n",
    "# add a constant to the regressor\n",
    "x_range = sm.add_constant(x_range)\n",
    "\n",
    "# get the prediction interval for each value of the regressor\n",
    "prediction_df = model.get_prediction(x_range).summary_frame(alpha=0.05)\n",
    "\n",
    "# plot the data and the intervals\n",
    "plt.plot(data['lag1'], data['Ex4'], 'o', color='blue', label='Original data')\n",
    "plt.plot(x_range[:,1], prediction_df['mean'], '--', color='red', label='Fitted values')\n",
    "plt.fill_between(x_range[:,1], prediction_df['obs_ci_lower'], prediction_df['obs_ci_upper'], color='green', alpha=0.2)\n",
    "plt.fill_between(x_range[:,1], prediction_df['mean_ci_lower'], prediction_df['mean_ci_upper'], color='red', alpha=0.2)\n",
    "plt.title('Scatter plot of X(t) vs X(t-1)')\n",
    "plt.xlabel('X(t-1)')\n",
    "plt.ylabel('X(t)')\n",
    "plt.show()"
   ]
  },
  {
   "cell_type": "markdown",
   "metadata": {},
   "source": [
    "Model"
   ]
  },
  {
   "cell_type": "code",
   "execution_count": null,
   "metadata": {},
   "outputs": [],
   "source": [
    "# Stepwise regression\n",
    "stepwise = qda.StepwiseRegression(add_constant = True, direction = 'both', alpha_to_enter = 0.15, alpha_to_remove = 0.15)\n",
    "# Fit the model\n",
    "model = stepwise.fit(y, X)"
   ]
  },
  {
   "cell_type": "code",
   "execution_count": null,
   "metadata": {},
   "outputs": [],
   "source": []
  }
 ],
 "metadata": {
  "kernelspec": {
   "display_name": "qda",
   "language": "python",
   "name": "python3"
  },
  "language_info": {
   "codemirror_mode": {
    "name": "ipython",
    "version": 3
   },
   "file_extension": ".py",
   "mimetype": "text/x-python",
   "name": "python",
   "nbconvert_exporter": "python",
   "pygments_lexer": "ipython3",
   "version": "3.7.16"
  },
  "vscode": {
   "interpreter": {
    "hash": "d8ec47cd585a786a2efbb520d554c7d611207870f64a3a0e1d27be6f7a4b38ad"
   }
  }
 },
 "nbformat": 4,
 "nbformat_minor": 2
}
