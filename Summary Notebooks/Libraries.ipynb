{
 "cells": [
  {
   "cell_type": "markdown",
   "metadata": {},
   "source": [
    "Libraries"
   ]
  },
  {
   "cell_type": "code",
   "execution_count": null,
   "metadata": {},
   "outputs": [],
   "source": [
    "import numpy as np\n",
    "import pandas as pd\n",
    "import matplotlib.pyplot as plt\n",
    "import scipy.stats as stats\n",
    "import seaborn as sns\n",
    "\n",
    "from statsmodels.sandbox.stats.runs import runstest_1samp\n",
    "import statsmodels.graphics.tsaplots as sgt\n",
    "from statsmodels.tsa.stattools import acf\n",
    "import statsmodels.api as sm\n",
    "\n",
    "from sklearn.decomposition import PCA\n",
    "\n",
    "import qda"
   ]
  },
  {
   "cell_type": "code",
   "execution_count": null,
   "metadata": {},
   "outputs": [],
   "source": [
    "import os\n",
    "import re\n",
    "from scipy import ndimage\n",
    "import math\n",
    "import random\n",
    "import cv2\n",
    "import skimage\n",
    "from scipy import stats\n",
    "import pylab\n",
    "\n",
    "from PIL import Image, ImageEnhance\n",
    "from skimage.measure import label, regionprops\n",
    "from skimage.io import imsave\n",
    "from skimage.filters import threshold_otsu"
   ]
  },
  {
   "cell_type": "code",
   "execution_count": null,
   "metadata": {},
   "outputs": [],
   "source": [
    "import qcc"
   ]
  }
 ],
 "metadata": {
  "kernelspec": {
   "display_name": "qda",
   "language": "python",
   "name": "python3"
  },
  "language_info": {
   "codemirror_mode": {
    "name": "ipython",
    "version": 3
   },
   "file_extension": ".py",
   "mimetype": "text/x-python",
   "name": "python",
   "nbconvert_exporter": "python",
   "pygments_lexer": "ipython3",
   "version": "3.7.16"
  },
  "vscode": {
   "interpreter": {
    "hash": "d8ec47cd585a786a2efbb520d554c7d611207870f64a3a0e1d27be6f7a4b38ad"
   }
  }
 },
 "nbformat": 4,
 "nbformat_minor": 2
}
