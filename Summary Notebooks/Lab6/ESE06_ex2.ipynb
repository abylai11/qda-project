{
 "cells": [
  {
   "attachments": {},
   "cell_type": "markdown",
   "metadata": {},
   "source": [
    "# EXERCISE 2\n",
    "\n",
    "Design an X-bar and R control chart for the data in `ESE06_ex2.csv`. Which conclusions can be drawn about the process?"
   ]
  },
  {
   "cell_type": "code",
   "execution_count": null,
   "metadata": {},
   "outputs": [],
   "source": [
    "# Import the necessary libraries\n",
    "import numpy as np\n",
    "import matplotlib.pyplot as plt\n",
    "import pandas as pd\n",
    "from scipy import stats\n",
    "import qda\n",
    "\n",
    "# Import the dataset\n",
    "data = pd.read_csv('ESE06_ex2.csv')\n",
    "\n",
    "# Inspect the dataset\n",
    "data.head()"
   ]
  },
  {
   "attachments": {},
   "cell_type": "markdown",
   "metadata": {},
   "source": [
    "> ### Solution\n",
    ">\n",
    "> Inspect the data by plotting the individual datapoints. "
   ]
  },
  {
   "cell_type": "code",
   "execution_count": null,
   "metadata": {},
   "outputs": [],
   "source": [
    "# Make a scatter plot of all the columns against the index\n",
    "plt.plot(data['x1'], linestyle='none', marker='o', label = 'x1')\n",
    "plt.plot(data['x2'], linestyle='none', marker='o', label = 'x2')\n",
    "plt.plot(data['x3'], linestyle='none', marker='o', label = 'x3')\n",
    "plt.plot(data['x4'], linestyle='none', marker='o', label = 'x4')\n",
    "plt.plot(data['x5'], linestyle='none', marker='o', label = 'x5')\n",
    "# place the legend outside the plot\n",
    "plt.legend(bbox_to_anchor=(1.05, 1), loc=2, borderaxespad=0.)\n",
    "plt.show()"
   ]
  },
  {
   "attachments": {},
   "cell_type": "markdown",
   "metadata": {},
   "source": [
    "> Looks like outliers are present, or - more likely - the distribution is skewed."
   ]
  },
  {
   "cell_type": "code",
   "execution_count": null,
   "metadata": {},
   "outputs": [],
   "source": [
    "# Stack the data into a single column\n",
    "data_stack = data.stack()\n",
    "\n",
    "# Plot a histogram of the data_stack\n",
    "data_stack.hist()\n",
    "plt.show()"
   ]
  },
  {
   "attachments": {},
   "cell_type": "markdown",
   "metadata": {},
   "source": [
    "> The distribution is highly skewed."
   ]
  },
  {
   "attachments": {},
   "cell_type": "markdown",
   "metadata": {},
   "source": [
    "> Verify the assumption of normality. "
   ]
  },
  {
   "cell_type": "code",
   "execution_count": null,
   "metadata": {},
   "outputs": [],
   "source": [
    "# We can use the Shapiro-Wilk test\n",
    "_, p_value_SW = stats.shapiro(data_stack)\n",
    "print('p-value of the Shapiro-Wilk test: %.3f' % p_value_SW)\n",
    "\n",
    "# QQ-plot\n",
    "stats.probplot(data_stack, dist=\"norm\", plot=plt)\n",
    "plt.show()"
   ]
  },
  {
   "attachments": {},
   "cell_type": "markdown",
   "metadata": {},
   "source": [
    "> The data are non-normal. Therefore, we cannot use the X-bar and R chart on the raw data. We need to transform the data.\n",
    ">\n",
    "> But what happens if we neglect the normality violation and use the X-bar and R chart on the raw data?"
   ]
  },
  {
   "cell_type": "code",
   "execution_count": null,
   "metadata": {},
   "outputs": [],
   "source": [
    "# X-bar and R charts\n",
    "data_XR = qda.ControlCharts.XbarR(data)"
   ]
  },
  {
   "attachments": {},
   "cell_type": "markdown",
   "metadata": {},
   "source": [
    "> OOC observations may be due to a violation of control chart assumptions..."
   ]
  },
  {
   "attachments": {},
   "cell_type": "markdown",
   "metadata": {},
   "source": [
    "> Let's transform the data to make it more normal using the Box-Cox transformation.\n",
    ">\n",
    "> Remember the Box-Cox transformation is defined as:\n",
    "> $$x_{BC,i} = \\left\\{ \\begin{array}{ll} \\frac{x_i^\\lambda - 1}{\\lambda} & \\text{if } \\lambda \\neq 0 \\\\ \\ln x_i & \\text{if } \\lambda = 0 \\end{array} \\right.$$"
   ]
  },
  {
   "cell_type": "code",
   "execution_count": null,
   "metadata": {},
   "outputs": [],
   "source": [
    "# Box-Cox transformation and return the transformed data\n",
    "[data_BC, lmbda] = stats.boxcox(data_stack)\n",
    "\n",
    "print('Lambda = %.3f' % lmbda)\n",
    "\n",
    "# Plot a histogram of the transformed data\n",
    "plt.hist(data_BC)\n",
    "plt.show()"
   ]
  },
  {
   "cell_type": "code",
   "execution_count": null,
   "metadata": {},
   "outputs": [],
   "source": [
    "# It is also possible to find the best value of lambda for the transformation\n",
    "fig = plt.figure()\n",
    "ax = fig.add_subplot(111)\n",
    "stats.boxcox_normplot(data_stack, -2, 2, plot=ax)\n",
    "# add grid\n",
    "ax.grid(True)"
   ]
  },
  {
   "attachments": {},
   "cell_type": "markdown",
   "metadata": {},
   "source": [
    "By default, the Box-Cox function used Lambda = -0.037. A more interpretable (and very close to optimum) value is Lambda = 0."
   ]
  },
  {
   "cell_type": "code",
   "execution_count": null,
   "metadata": {},
   "outputs": [],
   "source": [
    "# Use lambda = 0 for Box-Cox transformation and return the transformed data\n",
    "data_BC = stats.boxcox(data_stack, lmbda=0)\n",
    "\n",
    "# Plot a histogram of the transformed data\n",
    "plt.hist(data_BC)\n",
    "plt.show()"
   ]
  },
  {
   "attachments": {},
   "cell_type": "markdown",
   "metadata": {},
   "source": [
    "> Now the data seem to follow a normal distribution. Let's verify this by testing the normality."
   ]
  },
  {
   "cell_type": "code",
   "execution_count": null,
   "metadata": {},
   "outputs": [],
   "source": [
    "# We can use the Shapiro-Wilk test\n",
    "_, p_value_SW = stats.shapiro(data_BC)\n",
    "print('p-value of the Shapiro-Wilk test: %.3f' % p_value_SW)\n",
    "\n",
    "# QQ-plot\n",
    "stats.probplot(data_BC, dist=\"norm\", plot=plt)\n",
    "plt.show()"
   ]
  },
  {
   "attachments": {},
   "cell_type": "markdown",
   "metadata": {},
   "source": [
    "> Normality is verified. We can now use the X-bar and R chart on the transformed data."
   ]
  },
  {
   "cell_type": "code",
   "execution_count": null,
   "metadata": {},
   "outputs": [],
   "source": [
    "# First we need to unstack the data\n",
    "data_BC_unstack = data_BC.reshape(data.shape)\n",
    "# and convert it to a DataFrame\n",
    "data_BC_unstack = pd.DataFrame(data_BC_unstack, columns = data.columns)\n",
    "\n",
    "# Print out the transformed data\n",
    "data_BC_unstack.head()"
   ]
  },
  {
   "cell_type": "code",
   "execution_count": null,
   "metadata": {},
   "outputs": [],
   "source": [
    "# X-bar and R charts\n",
    "data_BC_XR = qda.ControlCharts.XbarR(data_BC_unstack)"
   ]
  },
  {
   "attachments": {},
   "cell_type": "markdown",
   "metadata": {},
   "source": [
    "> The X-bar and R chart show that the process is in control."
   ]
  }
 ],
 "metadata": {
  "kernelspec": {
   "display_name": "qda2",
   "language": "python",
   "name": "python3"
  },
  "language_info": {
   "codemirror_mode": {
    "name": "ipython",
    "version": 3
   },
   "file_extension": ".py",
   "mimetype": "text/x-python",
   "name": "python",
   "nbconvert_exporter": "python",
   "pygments_lexer": "ipython3",
   "version": "3.7.16"
  },
  "orig_nbformat": 4,
  "vscode": {
   "interpreter": {
    "hash": "f83e156cbcff9297b7b48d17cb0a2aa554376af383abb1a28c70ffb29fc29c0a"
   }
  }
 },
 "nbformat": 4,
 "nbformat_minor": 2
}
