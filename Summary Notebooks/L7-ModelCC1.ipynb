{
 "cells": [
  {
   "cell_type": "markdown",
   "metadata": {},
   "source": [
    "Control charts"
   ]
  },
  {
   "cell_type": "code",
   "execution_count": null,
   "metadata": {},
   "outputs": [],
   "source": [
    "# Import the dataset\n",
    "data = pd.read_csv('')\n",
    "print(data.shape)\n",
    "data.head()"
   ]
  },
  {
   "cell_type": "markdown",
   "metadata": {},
   "source": [
    "Moving ranges I-MR"
   ]
  },
  {
   "cell_type": "code",
   "execution_count": null,
   "metadata": {},
   "outputs": [],
   "source": [
    "# With command \n",
    "df = qda.ControlCharts.IMR(data, '')"
   ]
  },
  {
   "cell_type": "code",
   "execution_count": null,
   "metadata": {},
   "outputs": [],
   "source": [
    "# Compute the moving ranges using the diff function\n",
    "data['MR'] = data[''].diff().abs()"
   ]
  },
  {
   "cell_type": "code",
   "execution_count": null,
   "metadata": {},
   "outputs": [],
   "source": [
    "# Define the constants for the control limits\n",
    "d2 = qda.constants.getd2(n)\n",
    "D4 = qda.constants.getD4(n)\n",
    "\n",
    "# make a copy of the data\n",
    "df = data.copy()\n",
    "# change the name of the column time to I\n",
    "df.rename(columns={'':'I'}, inplace=True)\n",
    "\n",
    "# Create columns for the upper and lower control limits\n",
    "df['I_UCL'] = df['I'].mean() + (3*df['MR'].mean()/d2)\n",
    "df['I_CL'] = df['I'].mean()\n",
    "df['I_LCL'] = df['I'].mean() - (3*df['MR'].mean()/d2)\n",
    "df['MR_UCL'] = D4 * df['MR'].mean()\n",
    "df['MR_CL'] = df['MR'].mean()\n",
    "df['MR_LCL'] = 0\n",
    "# Define columns for the alarm rule\n",
    "df['I_TEST1'] = np.where((df['I'] > df['I_UCL']) | \n",
    "                (df['I'] < df['I_LCL']), df['I'], np.nan)\n",
    "df['MR_TEST1'] = np.where((df['MR'] > df['MR_UCL']) | \n",
    "                (df['MR'] < df['MR_LCL']), df['MR'], np.nan)\n",
    "\n",
    "df.head()"
   ]
  },
  {
   "cell_type": "code",
   "execution_count": null,
   "metadata": {},
   "outputs": [],
   "source": [
    "# Plot the I chart\n",
    "plt.title('I chart')\n",
    "plt.plot(df['I'], color='b', linestyle='--', marker='o')\n",
    "plt.plot(df['I'], color='b', linestyle='--', marker='o')\n",
    "plt.plot(df['I_UCL'], color='r')\n",
    "plt.plot(df['I_CL'], color='g')\n",
    "plt.plot(df['I_LCL'], color='r')\n",
    "plt.ylabel('Individual Value')\n",
    "plt.xlabel('Sample number')\n",
    "# add the values of the control limits on the right side of the plot\n",
    "plt.text(len(df)+.5, df['I_UCL'].iloc[0], 'UCL = {:.2f}'.format(df['I_UCL'].iloc[0]), verticalalignment='center')\n",
    "plt.text(len(df)+.5, df['I_CL'].iloc[0], 'CL = {:.2f}'.format(df['I_CL'].iloc[0]), verticalalignment='center')\n",
    "plt.text(len(df)+.5, df['I_LCL'].iloc[0], 'LCL = {:.2f}'.format(df['I_LCL'].iloc[0]), verticalalignment='center')\n",
    "# highlight the points that violate the alarm rules\n",
    "plt.plot(df['I_TEST1'], linestyle='none', marker='s', color='r', markersize=10)\n",
    "plt.show()"
   ]
  },
  {
   "cell_type": "code",
   "execution_count": null,
   "metadata": {},
   "outputs": [],
   "source": [
    "plt.title('MR chart')\n",
    "plt.plot(df['MR'], color='b', linestyle='--', marker='o')\n",
    "plt.plot(df['MR_UCL'], color='r')\n",
    "plt.plot(df['MR_CL'], color='g')\n",
    "plt.plot(df['MR_LCL'], color='r')\n",
    "plt.ylabel('Moving Range')\n",
    "plt.xlabel('Sample number')\n",
    "# add the values of the control limits on the right side of the plot\n",
    "plt.text(len(df)+.5, df['MR_UCL'].iloc[0], 'UCL = {:.2f}'.format(df['MR_UCL'].iloc[0]), verticalalignment='center')\n",
    "plt.text(len(df)+.5, df['MR_CL'].iloc[0], 'CL = {:.2f}'.format(df['MR_CL'].iloc[0]), verticalalignment='center')\n",
    "plt.text(len(df)+.5, df['MR_LCL'].iloc[0], 'LCL = {:.2f}'.format(df['MR_LCL'].iloc[0]), verticalalignment='center')\n",
    "# highlight the points that violate the alarm rules\n",
    "plt.plot(df['MR_TEST1'], linestyle='none', marker='s', color='r', markersize=10)\n",
    "plt.show()"
   ]
  },
  {
   "cell_type": "markdown",
   "metadata": {},
   "source": [
    "Data Model"
   ]
  },
  {
   "cell_type": "code",
   "execution_count": null,
   "metadata": {},
   "outputs": [],
   "source": [
    "# Add a column with the sample number to use as regressor\n",
    "data['t'] = np.arange(1, len(data)+1)\n",
    "\n",
    "data.head()"
   ]
  },
  {
   "cell_type": "code",
   "execution_count": null,
   "metadata": {},
   "outputs": [],
   "source": [
    "#to create 5 dummies for five groups\n",
    "data_stack['dum1']=np.tile(np.array([1, 0, 0,0,0]), int(len(data_stack)/5))\n",
    "data_stack['dum2']=np.tile(np.array([0, 1, 0,0,0]), int(len(data_stack)/5))\n",
    "data_stack['dum3']=np.tile(np.array([0, 0, 1,0,0]), int(len(data_stack)/5))\n",
    "data_stack['dum4']=np.tile(np.array([0, 0, 0,1,0]), int(len(data_stack)/5))\n",
    "data_stack['dum5']=np.tile(np.array([0, 0, 0,0,1]), int(len(data_stack)/5))\n",
    "# or\n",
    "#data_stack['time']=np.tile(np.array([1,2,3,4,5]), int(len(data_stack)/5))\n",
    "\n",
    "X = data_stack[['dum1','dum2', 'dum3','dum4','dum5']]\n",
    "y = data_stack['value']"
   ]
  },
  {
   "cell_type": "code",
   "execution_count": null,
   "metadata": {},
   "outputs": [],
   "source": [
    "# Stepwise regression model\n",
    "stepwise = qda.StepwiseRegression(add_constant = True, direction = 'both', alpha_to_enter = 0.15, alpha_to_remove = 0.15)\n",
    "# Fit the model\n",
    "model = stepwise.fit(y, X)"
   ]
  },
  {
   "cell_type": "code",
   "execution_count": null,
   "metadata": {},
   "outputs": [],
   "source": [
    "# If model already known\n",
    "\n",
    "data['fits']=9.5+0.64*df['lag1']\n",
    "data['resid']=df['x']-df['fits']\n",
    "data['MR']=df['resid'].diff().abs()"
   ]
  },
  {
   "cell_type": "code",
   "execution_count": null,
   "metadata": {},
   "outputs": [],
   "source": [
    "# Fit linear regression model\n",
    "x = data['x']\n",
    "x = sm.add_constant(x)\n",
    "y = data['time']\n",
    "model = sm.OLS(y,x).fit()\n",
    "\n",
    "# Print model summary\n",
    "qda.summary(model)"
   ]
  },
  {
   "cell_type": "code",
   "execution_count": null,
   "metadata": {},
   "outputs": [],
   "source": [
    "#original vs fitted\n",
    "plt.plot(data['x'], color='b', linestyle='-', marker='o', label='temp')\n",
    "plt.plot(model.fittedvalues, color='r', linestyle='--', marker='s', label='FITS')\n",
    "plt.legend()\n",
    "plt.show()"
   ]
  },
  {
   "cell_type": "code",
   "execution_count": null,
   "metadata": {},
   "outputs": [],
   "source": [
    "# Assumptions on residuals \n",
    "fig, axs = plt.subplots(2, 2)\n",
    "fig.suptitle('Residual Plots')\n",
    "stats.probplot(model.resid, dist=\"norm\", plot=axs[0,0])\n",
    "axs[0,0].set_title('Normal probability plot')\n",
    "axs[0,1].scatter(model.fittedvalues, model.resid)\n",
    "axs[0,1].set_title('Versus Fits')\n",
    "axs[1,0].hist(model.resid)\n",
    "axs[1,0].set_title('Histogram')\n",
    "axs[1,1].plot(np.arange(1, len(model.resid)+1), model.resid, 'o-')\n",
    "_, pval_SW_res = stats.shapiro(model.resid)\n",
    "print('Shapiro-Wilk test p-value on the residuals = %.3f' % pval_SW_res)\n",
    "\n",
    "_, pval_runs_res = runstest_1samp(model.resid, correction=False)\n",
    "print('Runs test p-value on the residuals = {:.3f}'.format(pval_runs_res))\n",
    "fig, ax = plt.subplots(2, 1)\n",
    "sgt.plot_acf(model.resid, lags = int(len(data)/3), zero=False, ax=ax[0])\n",
    "sgt.plot_pacf(model.resid, lags = int(len(data)/3), zero=False, ax=ax[1], \n",
    "            method = 'ywm')\n",
    "plt.show()"
   ]
  },
  {
   "cell_type": "markdown",
   "metadata": {},
   "source": [
    "Trend control chart"
   ]
  },
  {
   "cell_type": "code",
   "execution_count": null,
   "metadata": {},
   "outputs": [],
   "source": [
    "d2 = qda.constants.getd2(2)\n",
    "alpha=1/250\n",
    "K_alpha=stats.norm.ppf(1-alpha/2)"
   ]
  },
  {
   "cell_type": "code",
   "execution_count": null,
   "metadata": {},
   "outputs": [],
   "source": [
    "# FVC\n",
    "\n",
    "# Recalculate control limits \n",
    "data['I_CL'] = model.fittedvalues\n",
    "data['I_UCL'] = data['I_CL'] + 3 * data_res['MR'].mean() / d2\n",
    "data['I_LCL'] = data['I_CL'] - 3 * data_res['MR'].mean() / d2\n",
    "data['I_TEST1'] = np.where((data['x'] > data['I_UCL']) | (data['x'] < data['I_LCL']), data['x'], np.nan)"
   ]
  },
  {
   "cell_type": "code",
   "execution_count": null,
   "metadata": {},
   "outputs": [],
   "source": [
    "data_res = pd.DataFrame({'I': model.resid})\n",
    "data_res['MR'] = data_res['I'].diff().abs()\n",
    "\n",
    "data_res.describe()"
   ]
  },
  {
   "cell_type": "code",
   "execution_count": null,
   "metadata": {},
   "outputs": [],
   "source": [
    "#if we know it can't go under 0 can use this\n",
    "#df['I_LCL'] = np.where((df['I_LCL'] < 0), 0, df['I_LCL'])"
   ]
  },
  {
   "cell_type": "code",
   "execution_count": null,
   "metadata": {},
   "outputs": [],
   "source": [
    "# Plot the I chart\n",
    "plt.title('I chart')\n",
    "plt.plot(data['I'], color='b', linestyle='--', marker='o')\n",
    "plt.plot(data['I'], color='b', linestyle='--', marker='o')\n",
    "plt.plot(data['I_UCL'], color='r')\n",
    "plt.plot(data['I_CL'], color='g')\n",
    "plt.plot(data['I_LCL'], color='r')\n",
    "plt.ylabel('Individual Value')\n",
    "plt.xlabel('Sample number')\n",
    "# highlight the points that violate the alarm rules\n",
    "plt.plot(data['I_TEST1'], linestyle='none', marker='s', \n",
    "        color='r', markersize=10)\n",
    "plt.show()"
   ]
  },
  {
   "cell_type": "code",
   "execution_count": null,
   "metadata": {},
   "outputs": [],
   "source": [
    "# SCC\n",
    "\n",
    "d2 = qda.constants.getd2(2)\n",
    "D4 = qda.constants.getD4(2)\n",
    "\n",
    "# Control limits using residuals\n",
    "data_res['I_UCL'] = data_res['I'].mean() + (K_alpha*data_res['MR'].mean()/d2)\n",
    "data_res['I_CL'] = data_res['I'].mean()\n",
    "data_res['I_LCL'] = data_res['I'].mean() - (K_alpha*data_res['MR'].mean()/d2)\n",
    "data_res['MR_UCL'] = D4 * data_res['MR'].mean()\n",
    "data_res['MR_CL'] = data_res['MR'].mean()\n",
    "data_res['MR_LCL'] = 0\n",
    "# Define columns for the Western Electric alarm rules\n",
    "data_res['I_TEST1'] = np.where((data_res['I'] > data_res['I_UCL']) | \n",
    "            (data_res['I'] < data_res['I_LCL']), data_res['I'], np.nan)\n",
    "data_res['MR_TEST1'] = np.where((data_res['MR'] > data_res['MR_UCL']) | \n",
    "            (data_res['MR'] < data_res['MR_LCL']), data_res['MR'], np.nan)\n",
    "\n",
    "data_res.head()"
   ]
  },
  {
   "cell_type": "code",
   "execution_count": null,
   "metadata": {},
   "outputs": [],
   "source": [
    "# Plot the I chart\n",
    "plt.title('I chart')\n",
    "plt.plot(data_res['I'], color='b', linestyle='--', marker='o')\n",
    "plt.plot(data_res['I'], color='b', linestyle='--', marker='o')\n",
    "plt.plot(data_res['I_UCL'], color='r')\n",
    "plt.plot(data_res['I_CL'], color='g')\n",
    "plt.plot(data_res['I_LCL'], color='r')\n",
    "plt.ylabel('Individual Value')\n",
    "plt.xlabel('Sample number')\n",
    "# add the values of the control limits on the right side of the plot\n",
    "# print the first value of the column I_UCL\n",
    "plt.text(len(data_res)+.5, data_res['I_UCL'].iloc[0], \n",
    "        'UCL = {:.2f}'.format(data_res['I_UCL'].iloc[0]), \n",
    "        verticalalignment='center')\n",
    "plt.text(len(data_res)+.5, data_res['I_CL'].iloc[0], \n",
    "        'CL = {:.2f}'.format(data_res['I_CL'].iloc[0]), \n",
    "        verticalalignment='center')\n",
    "plt.text(len(data_res)+.5, data_res['I_LCL'].iloc[0], \n",
    "        'LCL = {:.2f}'.format(data_res['I_LCL'].iloc[0]), \n",
    "        verticalalignment='center')\n",
    "# highlight the points that violate the alarm rules\n",
    "plt.plot(data_res['I_TEST1'], linestyle='none', marker='s', \n",
    "        color='r', markersize=10)\n",
    "plt.show()"
   ]
  },
  {
   "cell_type": "code",
   "execution_count": null,
   "metadata": {},
   "outputs": [],
   "source": [
    "plt.title('MR chart')\n",
    "plt.plot(data_res['MR'], color='b', linestyle='--', marker='o')\n",
    "plt.plot(data_res['MR_UCL'], color='r')\n",
    "plt.plot(data_res['MR_CL'], color='g')\n",
    "plt.plot(data_res['MR_LCL'], color='r')\n",
    "plt.ylabel('Moving Range')\n",
    "plt.xlabel('Sample number')\n",
    "# add the values of the control limits on the right side of the plot\n",
    "plt.text(len(data_res)+.5, data_res['MR_UCL'].iloc[0], \\\n",
    "         'UCL = {:.2f}'.format(data_res['MR_UCL'].iloc[0]), \n",
    "         verticalalignment='center')\n",
    "plt.text(len(data_res)+.5, data_res['MR_CL'].iloc[0], \n",
    "        'CL = {:.2f}'.format(data_res['MR_CL'].iloc[0]), \n",
    "        verticalalignment='center')\n",
    "plt.text(len(data_res)+.5, data_res['MR_LCL'].iloc[0], \n",
    "        'LCL = {:.2f}'.format(data_res['MR_LCL'].iloc[0]), \n",
    "        verticalalignment='center')\n",
    "# highlight the points that violate the alarm rules\n",
    "plt.plot(data_res['MR_TEST1'], linestyle='none', marker='s', \n",
    "        color='r', markersize=10)\n",
    "plt.show()"
   ]
  },
  {
   "cell_type": "code",
   "execution_count": null,
   "metadata": {},
   "outputs": [],
   "source": [
    "# Or with command\n",
    "\n",
    "# Put the residuals in a dataframe\n",
    "df_SCC = pd.DataFrame(model.resid, columns=['res'])\n",
    "\n",
    "# Plot the IMR control chart\n",
    "df_SCC_IMR = qda.ControlCharts.IMR(df_SCC, 'res',K=K_alpha)"
   ]
  },
  {
   "cell_type": "code",
   "execution_count": null,
   "metadata": {},
   "outputs": [],
   "source": [
    "# If ooc with assignable cause \n",
    "\n",
    "OOC_idx = np.where(data_IMR['I_TEST1'].notnull())[0]\n",
    "# Create the dummy variable X\n",
    "data['dummy'] = np.where((data['t'] == OOC_idx), 1, 0)\n",
    "data.head()"
   ]
  },
  {
   "cell_type": "code",
   "execution_count": null,
   "metadata": {},
   "outputs": [],
   "source": [
    "# Fit a model\n",
    "x = data[['t', 'dummy']]\n",
    "x = sm.add_constant(x)\n",
    "y = data['time']\n",
    "model2 = sm.OLS(y,x).fit()\n",
    "qda.summary(model2)\n",
    "\n",
    "#plot model\n",
    "plt.plot(data['t'], data['time'], color='b', linestyle='-', marker='o')\n",
    "plt.plot(data['t'], model2.fittedvalues, color='r')\n",
    "plt.show()"
   ]
  },
  {
   "cell_type": "code",
   "execution_count": null,
   "metadata": {},
   "outputs": [],
   "source": [
    "# Residual check\n",
    "fig, axs = plt.subplots(2, 2)\n",
    "fig.suptitle('Residual Plots')\n",
    "stats.probplot(model2.resid, dist=\"norm\", plot=axs[0,0])\n",
    "axs[0,0].set_title('Normal probability plot')\n",
    "axs[0,1].scatter(model2.fittedvalues, model.resid)\n",
    "axs[0,1].set_title('Versus Fits')\n",
    "axs[1,0].hist(model2.resid)\n",
    "axs[1,0].set_title('Histogram')\n",
    "axs[1,1].plot(np.arange(1, len(model2.resid)+1), model2.resid, 'o-')\n",
    "\n",
    "_, pval_SW_res = stats.shapiro(model2.resid)\n",
    "print('Shapiro-Wilk test p-value on the residuals = %.3f' % pval_SW_res)\n",
    "\n",
    "_, pval_runs_res = runstest_1samp(model2.resid, correction=False)\n",
    "print('Runs test p-value on the residuals = {:.3f}'.format(pval_runs_res))\n",
    "fig, ax = plt.subplots(2, 1)\n",
    "sgt.plot_acf(model2.resid, lags = int(len(data)/3), zero=False, ax=ax[0])\n",
    "sgt.plot_pacf(model2.resid, lags = int(len(data)/3), zero=False, ax=ax[1],\n",
    "            method = 'ywm')\n",
    "plt.show()"
   ]
  },
  {
   "cell_type": "code",
   "execution_count": null,
   "metadata": {},
   "outputs": [],
   "source": [
    "# Make a new dataframe for the new residuals\n",
    "df_res2 = pd.DataFrame({'res2': model2.resid})\n",
    "\n",
    "# Create the IMR chart\n",
    "df_res2 = qda.ControlCharts.IMR(df_res2, 'res2')"
   ]
  },
  {
   "cell_type": "markdown",
   "metadata": {},
   "source": [
    "AR Control Chart"
   ]
  },
  {
   "cell_type": "code",
   "execution_count": null,
   "metadata": {},
   "outputs": [],
   "source": [
    "# Add a column with the lagged var to use as regressor\n",
    "data['lag1'] = data[''].shift(1)\n",
    "\n",
    "x = data['lag1'][1:]\n",
    "x = sm.add_constant(x) # this command is used to consider a constant to the model, is equivalent to create and add a column of ones\n",
    "y = data[''][1:]\n",
    "model = sm.OLS(y, x).fit()\n",
    "qda.summary(model)\n",
    "\n",
    "#then check residuals "
   ]
  },
  {
   "cell_type": "code",
   "execution_count": null,
   "metadata": {},
   "outputs": [],
   "source": [
    "# SCC\n",
    "#approximation not working like with trend data    #????\n",
    "\n",
    "# Put residuals in dataframe\n",
    "df_SCC = pd.DataFrame(model.resid, columns=['res'])\n",
    "# Plot IMR control chart\n",
    "df_SCC_IMR = qda.ControlCharts.IMR(df_SCC, 'res')"
   ]
  },
  {
   "cell_type": "code",
   "execution_count": null,
   "metadata": {},
   "outputs": [],
   "source": [
    "#plot original vs fitted data\n",
    "plt.plot(data[''], color='b', linestyle='-', marker='o', label='temp')\n",
    "plt.plot(model.fittedvalues, color='r', linestyle='--', marker='s', label='FITS')\n",
    "plt.legend()\n",
    "plt.show()"
   ]
  },
  {
   "cell_type": "code",
   "execution_count": null,
   "metadata": {},
   "outputs": [],
   "source": [
    "# Model based control chart\n",
    "\n",
    "MRbar_res = df_SCC_IMR['MR_CL'].iloc[0]\n",
    "# new dataframe with original data and center line (fitted values)\n",
    "df = pd.DataFrame({'I': data['temp'].iloc[1:], 'I_CL': model.fittedvalues}, index=data.index[1:])\n",
    "df['I_UCL'] = df['I_CL'] + 3 * MRbar_res / d2\n",
    "df['I_LCL'] = df['I_CL'] - 3 * MRbar_res / d2\n",
    "df['I_TEST1'] = np.where((df['I'] > df['I_UCL']) | (df['I'] < df['I_LCL']), df['I'], np.nan)"
   ]
  },
  {
   "cell_type": "code",
   "execution_count": null,
   "metadata": {},
   "outputs": [],
   "source": [
    "# Plot the I chart\n",
    "plt.title('I chart')\n",
    "plt.plot(df['I'], color='b', linestyle='--', marker='o')\n",
    "plt.plot(df['I'], color='b', linestyle='--', marker='o')\n",
    "plt.plot(df['I_UCL'], color='r')\n",
    "plt.plot(df['I_CL'], color='g')\n",
    "plt.plot(df['I_LCL'], color='r')\n",
    "plt.ylabel('Individual Value')\n",
    "plt.xlabel('Sample number')\n",
    "# highlight the points that violate the alarm rules\n",
    "plt.plot(df['I_TEST1'], linestyle='none', marker='s', \n",
    "        color='r', markersize=10)\n",
    "plt.show()"
   ]
  },
  {
   "cell_type": "markdown",
   "metadata": {},
   "source": [
    "I-MR-R Chart"
   ]
  },
  {
   "cell_type": "code",
   "execution_count": null,
   "metadata": {},
   "outputs": [],
   "source": [
    "#create between groups control chart\n",
    "data_XR = qda.ControlCharts.XbarR(data)\n",
    "#new dataframe from sample means\n",
    "data_Xbar = pd.DataFrame(data_XR['sample_mean'])\n",
    "data_Xbar = qda.ControlCharts.IMR(data_Xbar, 'sample_mean')"
   ]
  },
  {
   "cell_type": "code",
   "execution_count": null,
   "metadata": {},
   "outputs": [],
   "source": [
    "# I-MR-R control chart\n",
    "\n",
    "# Build the IMR chart using this new dataframe\n",
    "data_Xbar = qda.ControlCharts.IMR(data_Xbar, 'sample_mean')\n",
    "\n",
    "# Plot the R chart as well\n",
    "plt.title('R chart')\n",
    "plt.plot(data_XR['sample_range'], color='b', linestyle='--', marker='o')\n",
    "plt.plot(data_XR['R_UCL'], color='r')\n",
    "plt.plot(data_XR['R_CL'], color='g')\n",
    "plt.plot(data_XR['R_LCL'], color='r')\n",
    "plt.ylabel('Sample range')\n",
    "plt.xlabel('Sample number')\n",
    "# add the values of the control limits on the right side of the plot\n",
    "plt.text(len(data_XR)+.5, data_XR['R_UCL'].iloc[0], 'UCL = {:.3f}'.format(data_XR['R_UCL'].iloc[0]), verticalalignment='center')\n",
    "plt.text(len(data_XR)+.5, data_XR['R_CL'].iloc[0], 'CL = {:.3f}'.format(data_XR['R_CL'].iloc[0]), verticalalignment='center')\n",
    "plt.text(len(data_XR)+.5, data_XR['R_LCL'].iloc[0], 'LCL = {:.3f}'.format(data_XR['R_LCL'].iloc[0]), verticalalignment='center')\n",
    "# highlight the points that violate the alarm rules\n",
    "plt.plot(data_XR['R_TEST1'], linestyle='none', marker='s', color='r', markersize=10)\n",
    "plt.show()\n"
   ]
  },
  {
   "cell_type": "code",
   "execution_count": null,
   "metadata": {},
   "outputs": [],
   "source": []
  }
 ],
 "metadata": {
  "kernelspec": {
   "display_name": "qda2",
   "language": "python",
   "name": "python3"
  },
  "language_info": {
   "codemirror_mode": {
    "name": "ipython",
    "version": 3
   },
   "file_extension": ".py",
   "mimetype": "text/x-python",
   "name": "python",
   "nbconvert_exporter": "python",
   "pygments_lexer": "ipython3",
   "version": "3.7.12"
  },
  "orig_nbformat": 4,
  "vscode": {
   "interpreter": {
    "hash": "f83e156cbcff9297b7b48d17cb0a2aa554376af383abb1a28c70ffb29fc29c0a"
   }
  }
 },
 "nbformat": 4,
 "nbformat_minor": 2
}
