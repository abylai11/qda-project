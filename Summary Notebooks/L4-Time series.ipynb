{
 "cells": [
  {
   "cell_type": "markdown",
   "metadata": {},
   "source": [
    "Time series"
   ]
  },
  {
   "cell_type": "code",
   "execution_count": null,
   "metadata": {},
   "outputs": [],
   "source": [
    "# Import the dataset\n",
    "data = pd.read_csv('')\n",
    "\n",
    "data.head()"
   ]
  },
  {
   "cell_type": "code",
   "execution_count": null,
   "metadata": {},
   "outputs": [],
   "source": [
    "# Plot the data \n",
    "plt.plot(data[''], 'o-')\n",
    "plt.xlabel('')\n",
    "plt.ylabel('')\n",
    "plt.title('Time series plot')\n",
    "plt.grid()\n",
    "plt.show()"
   ]
  },
  {
   "cell_type": "code",
   "execution_count": null,
   "metadata": {},
   "outputs": [],
   "source": [
    "# Runs test for randomness\n",
    "_, pval_runs = runstest_1samp(data[''], correction=False)\n",
    "print('Runs test p-value = {:.3f}'.format(pval_runs))"
   ]
  },
  {
   "cell_type": "code",
   "execution_count": null,
   "metadata": {},
   "outputs": [],
   "source": [
    "# Plot acf and pacf \n",
    "\n",
    "fig, ax = plt.subplots(2, 1)\n",
    "sgt.plot_acf(data[''], lags = int(len(data)/3), zero=False, ax=ax[0])\n",
    "fig.subplots_adjust(hspace=0.5)\n",
    "sgt.plot_pacf(data[''], lags = int(len(data)/3), zero=False, ax=ax[1], method = 'ywm')\n",
    "plt.show()"
   ]
  },
  {
   "cell_type": "code",
   "execution_count": null,
   "metadata": {},
   "outputs": [],
   "source": [
    "#calculate the lag k from data\n",
    "k=1\n",
    "data['lagk'] = data[''].shift(k)\n",
    "\n",
    "#create scatterplot with regression line using seaborn and set axis labels\n",
    "sns.regplot(x=data['lagk'], y=data[''], ci=None, line_kws={'color':'red', 'ls':'--'})\n",
    "plt.title('Scatter plot of X(t-k) vs X(t)')\n",
    "plt.xlabel('X(t-k)')\n",
    "plt.ylabel('X(t)')\n",
    "plt.title('Scatter plot of X(t-k) vs X(t)')\n",
    "plt.grid()\n"
   ]
  },
  {
   "cell_type": "code",
   "execution_count": null,
   "metadata": {},
   "outputs": [],
   "source": [
    "#calculate the difference between the data and the lagk\n",
    "data['diffk'] = data[''] - data['lagk']\n",
    "\n",
    "plt.plot(data['diffk'], 'o-')\n",
    "plt.xlabel('Index')\n",
    "plt.ylabel('DIFF k')\n",
    "plt.title('Time series plot of DIFF k')\n",
    "plt.grid()\n",
    "plt.show()"
   ]
  },
  {
   "cell_type": "code",
   "execution_count": null,
   "metadata": {},
   "outputs": [],
   "source": [
    "n = len(data['diffk'][1:])\n",
    "\n",
    "#autocorrelation function\n",
    "[acf_values, lbq, _] = acf(data['diffk'][1:], nlags = int(np.sqrt(n)), qstat=True, fft = False)\n",
    "\n",
    "#Bartlett's test at lag k\n",
    "alpha = 0.05\n",
    "lag_test = k\n",
    "rk = acf_values[lag_test]\n",
    "z_alpha2 = stats.norm.ppf(1-alpha/2)\n",
    "print('Test statistic rk = %f' % rk)\n",
    "print('Rejection region starts at %f' % (z_alpha2/np.sqrt(n)))"
   ]
  },
  {
   "cell_type": "code",
   "execution_count": null,
   "metadata": {},
   "outputs": [],
   "source": [
    "#calculate a regression model with constant and lagk\n",
    "x = data['lagk'][1:]\n",
    "x = sm.add_constant(data['lagk'][1:]) # this command is used to consider a constant to the model, is equivalent to create and add a column of ones\n",
    "y = data[''][1:]\n",
    "model = sm.OLS(y, x).fit()\n",
    "\n",
    "qda.summary(model)"
   ]
  },
  {
   "cell_type": "code",
   "execution_count": null,
   "metadata": {},
   "outputs": [],
   "source": [
    "# without constant term\n",
    "x = data['lagk'][1:]\n",
    "y = data[''][1:]\n",
    "model = sm.OLS(y, x).fit()\n",
    "qda.summary(model)"
   ]
  },
  {
   "cell_type": "code",
   "execution_count": null,
   "metadata": {},
   "outputs": [],
   "source": [
    "#assumptions on model residuals\n",
    "fig, axs = plt.subplots(2, 2)\n",
    "fig.suptitle('Residual Plots')\n",
    "stats.probplot(model.resid, dist=\"norm\", plot=axs[0,0])\n",
    "axs[0,0].set_title('Normal probability plot')\n",
    "axs[0,1].scatter(model.fittedvalues, model.resid)\n",
    "axs[0,1].set_title('Versus Fits')\n",
    "fig.subplots_adjust(hspace=0.5)\n",
    "axs[1,0].hist(model.resid)\n",
    "axs[1,0].set_title('Histogram')\n",
    "axs[1,1].plot(np.arange(1, len(model.resid)+1), model.resid, 'o-')\n",
    "_, pval_SW_res = stats.shapiro(model.resid)\n",
    "print('Shapiro-Wilk test p-value on the residuals = %.3f' % pval_SW_res)"
   ]
  },
  {
   "cell_type": "code",
   "execution_count": null,
   "metadata": {},
   "outputs": [],
   "source": [
    "#assumptions on model residuals\n",
    "_, pval_runs_res = runstest_1samp(model.resid, correction=False)\n",
    "print('Runs test p-value on the residuals = {:.3f}'.format(pval_runs_res))\n",
    "fig, ax = plt.subplots(2, 1)\n",
    "sgt.plot_acf(model.resid, lags = int(len(data)/3), zero=False, ax=ax[0])\n",
    "fig.subplots_adjust(hspace=0.5)\n",
    "sgt.plot_pacf(model.resid, lags = int(len(data)/3), zero=False, ax=ax[1], \n",
    "            method = 'ywm')\n",
    "plt.show()"
   ]
  },
  {
   "cell_type": "code",
   "execution_count": null,
   "metadata": {},
   "outputs": [],
   "source": [
    "# to confront original values vs fitted\n",
    "plt.plot(data['EXE1'], 'o-', label='Original data')\n",
    "plt.xlabel('Index') \n",
    "plt.ylabel('EXE1')\n",
    "plt.plot(model.fittedvalues, 's--', color='red', label='Fitted values', alpha=0.5)\n",
    "plt.legend()\n",
    "plt.grid()\n",
    "plt.show()"
   ]
  },
  {
   "cell_type": "code",
   "execution_count": null,
   "metadata": {},
   "outputs": [],
   "source": [
    "# fit model ARIMA with constant term\n",
    "x = data['']\n",
    "model = qda.ARIMA(x, order=(0,1,1), add_constant = True) \n",
    "# order=(p,d,q) (auto reg, diff, mov aver)\n",
    "\n",
    "qda.ARIMAsummary(model)"
   ]
  },
  {
   "cell_type": "code",
   "execution_count": null,
   "metadata": {},
   "outputs": [],
   "source": [
    "#extract the residuals\n",
    "residuals = model.resid[1:]\n",
    "\n",
    "# Perform the Shapiro-Wilk test\n",
    "_, pval_SW = stats.shapiro(residuals)\n",
    "print('Shapiro-Wilk test p-value = %.3f' % pval_SW)\n",
    "\n",
    "# Plot the qqplot\n",
    "stats.probplot(residuals, dist=\"norm\", plot=plt)\n",
    "plt.show()"
   ]
  },
  {
   "cell_type": "code",
   "execution_count": null,
   "metadata": {},
   "outputs": [],
   "source": []
  }
 ],
 "metadata": {
  "kernelspec": {
   "display_name": "qda",
   "language": "python",
   "name": "python3"
  },
  "language_info": {
   "codemirror_mode": {
    "name": "ipython",
    "version": 3
   },
   "file_extension": ".py",
   "mimetype": "text/x-python",
   "name": "python",
   "nbconvert_exporter": "python",
   "pygments_lexer": "ipython3",
   "version": "3.7.12"
  },
  "vscode": {
   "interpreter": {
    "hash": "d8ec47cd585a786a2efbb520d554c7d611207870f64a3a0e1d27be6f7a4b38ad"
   }
  }
 },
 "nbformat": 4,
 "nbformat_minor": 2
}
