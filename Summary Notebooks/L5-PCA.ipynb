{
 "cells": [
  {
   "cell_type": "markdown",
   "metadata": {},
   "source": [
    "PCA"
   ]
  },
  {
   "cell_type": "code",
   "execution_count": null,
   "metadata": {},
   "outputs": [],
   "source": [
    "# Import the dataset\n",
    "data = pd.read_csv('')\n",
    "print(data.shape)\n",
    "data.head()"
   ]
  },
  {
   "cell_type": "code",
   "execution_count": null,
   "metadata": {},
   "outputs": [],
   "source": [
    "# Scatter plot\n",
    "pd.plotting.scatter_matrix(data, alpha = 1)\n",
    "plt.show()"
   ]
  },
  {
   "cell_type": "code",
   "execution_count": null,
   "metadata": {},
   "outputs": [],
   "source": [
    "# Variance covariance matrix\n",
    "cov_matrix = data.cov()\n",
    "#print(cov_matrix)"
   ]
  },
  {
   "cell_type": "code",
   "execution_count": null,
   "metadata": {},
   "outputs": [],
   "source": [
    "#Boxplot\n",
    "data.boxplot()\n",
    "plt.show() "
   ]
  },
  {
   "cell_type": "code",
   "execution_count": null,
   "metadata": {},
   "outputs": [],
   "source": [
    "# Standardize data\n",
    "data_std = (data - data.mean()) / data.std()\n",
    "data_std.head(10)"
   ]
  },
  {
   "cell_type": "code",
   "execution_count": null,
   "metadata": {},
   "outputs": [],
   "source": [
    "#cov matrix -> equivalent to correlation matrix of original data\n",
    "cov_matrix_std = data_std.cov()\n",
    "\n",
    "#Boxplot\n",
    "data_std.boxplot()\n",
    "plt.show() "
   ]
  },
  {
   "cell_type": "code",
   "execution_count": null,
   "metadata": {},
   "outputs": [],
   "source": [
    "# Create the PCA object\n",
    "pca = PCA()\n",
    "# Fit the PCA object to the data\n",
    "pca.fit(data_std)\n",
    "\n",
    "print(\"Eigenvalues \\n\", pca.explained_variance_)\n",
    "print(\"\\nEigenvectors \\n\", pca.components_)\n",
    "#print(\"\\nExplained variance ratio \\n\", pca.explained_variance_ratio_)\n",
    "\n",
    "print(\"\\nCumulative explained variance ratio \\n\", np.cumsum(pca.explained_variance_ratio_))\n"
   ]
  },
  {
   "cell_type": "code",
   "execution_count": null,
   "metadata": {},
   "outputs": [],
   "source": [
    "# Compute the scores (i.e. all the principal components, n x 3) \n",
    "scores = pca.transform(data_std)\n",
    "# create a dataframe with the scores\n",
    "scores_df = pd.DataFrame(scores,columns = ['z1', 'z2', 'z3','z4'])\n",
    "# Print the first rows of the scores dataframe\n",
    "scores_df.head()"
   ]
  },
  {
   "cell_type": "code",
   "execution_count": null,
   "metadata": {},
   "outputs": [],
   "source": [
    "# Scree plot\n",
    "plt.plot(np.cumsum(pca.explained_variance_ratio_), 'o-')\n",
    "plt.xlabel('Component number')\n",
    "plt.ylabel('Eigenvalue')\n",
    "plt.title('Scree plot')\n",
    "plt.show()"
   ]
  },
  {
   "cell_type": "code",
   "execution_count": null,
   "metadata": {},
   "outputs": [],
   "source": [
    "# Loadings\n",
    "# Plot only the first k PCs\n",
    "k = 3\n",
    "fig, ax = plt.subplots(k,1, figsize = (15, 10))\n",
    "for i in range(k):\n",
    "   ax[i].plot(pca.components_[i], 'o-')\n",
    "   ax[i].set_title('Loading ' + str(i+1))\n",
    "   plt.xticks(ticks=np.arange(0, 6, step=1), labels=data.columns)\n",
    "plt.show()"
   ]
  },
  {
   "cell_type": "code",
   "execution_count": null,
   "metadata": {},
   "outputs": [],
   "source": []
  },
  {
   "cell_type": "code",
   "execution_count": null,
   "metadata": {},
   "outputs": [],
   "source": [
    "# Compute the reconstructed data using the first k principal components\n",
    "\n",
    "reconstructed_data_std = scores_df[['', '']].dot(pca.components_[0:k, :])\n",
    "# Now use the mean and standard deviation to compute the reconstructed data\n",
    "reconstructed_data = reconstructed_data_std.dot(np.diag(data.std())) + np.asarray(data.mean())\n",
    "\n",
    "# Compare the original data with the reconstructed data\n",
    "print(\"Original data\\n\", data.head())\n",
    "print(\"\\nReconstructed (ORIGINAL) data\\n\", reconstructed_data.head())"
   ]
  },
  {
   "cell_type": "code",
   "execution_count": null,
   "metadata": {},
   "outputs": [],
   "source": []
  },
  {
   "cell_type": "code",
   "execution_count": null,
   "metadata": {},
   "outputs": [],
   "source": [
    "# Manually for known mu and cov_matrix\n",
    "\n",
    "mu=[11.3,14.61,12.12]\n",
    "cov_matrix=[[4.4,3.6,9.7],[3.6,4.6,1.5],[0.7,1.5,0.8]]\n",
    "\n",
    "eigen_values , eigen_vectors = np.linalg.eigh(cov_matrix)\n",
    "\n",
    "sorted_index = np.argsort(eigen_values)[::-1]\n",
    "sorted_eigenvalue = eigen_values[sorted_index]\n",
    "#similarly sort the eigenvectors \n",
    "sorted_eigenvectors = eigen_vectors[:,sorted_index]\n",
    "print(sorted_eigenvalue)\n",
    "\n",
    "\n",
    "n_components = 3 #you can select any number of components.\n",
    "eigenvector_subset = sorted_eigenvectors[:,0:n_components]\n",
    "X_reduced = np.dot(eigenvector_subset.transpose(),(data-mu).transpose()).transpose()  #score\n",
    "X_reduced=pd.DataFrame(X_reduced)\n",
    "X_reduced.columns=['z1','z2','z3']\n",
    "\n",
    "explained_variance = sorted_eigenvalue / np.sum(sorted_eigenvalue)\n",
    "print(np.cumsum(explained_variance))\n",
    "\n",
    "\n",
    "#loadings=sorted_eigenvectors.T * np.sqrt(explained_variance)"
   ]
  }
 ],
 "metadata": {
  "kernelspec": {
   "display_name": "qda",
   "language": "python",
   "name": "python3"
  },
  "language_info": {
   "codemirror_mode": {
    "name": "ipython",
    "version": 3
   },
   "file_extension": ".py",
   "mimetype": "text/x-python",
   "name": "python",
   "nbconvert_exporter": "python",
   "pygments_lexer": "ipython3",
   "version": "3.7.12"
  },
  "vscode": {
   "interpreter": {
    "hash": "d8ec47cd585a786a2efbb520d554c7d611207870f64a3a0e1d27be6f7a4b38ad"
   }
  }
 },
 "nbformat": 4,
 "nbformat_minor": 2
}
