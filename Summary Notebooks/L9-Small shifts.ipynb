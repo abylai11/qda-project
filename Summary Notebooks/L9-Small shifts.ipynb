{
 "cells": [
  {
   "cell_type": "markdown",
   "metadata": {},
   "source": [
    "Small shifts"
   ]
  },
  {
   "cell_type": "code",
   "execution_count": null,
   "metadata": {},
   "outputs": [],
   "source": [
    "# Import the dataset\n",
    "data = pd.read_csv('')\n",
    "\n",
    "data.head()"
   ]
  },
  {
   "cell_type": "markdown",
   "metadata": {},
   "source": [
    "CUSUM Manually"
   ]
  },
  {
   "cell_type": "code",
   "execution_count": null,
   "metadata": {},
   "outputs": [],
   "source": [
    "n = \n",
    "sigma_xbar = sigma/np.sqrt(n)\n",
    "xbarbar = data[''].mean()\n",
    "\n",
    "\n",
    "col_name = ''\n",
    "h = \n",
    "k = \n",
    "\n",
    "H = h*sigma_xbar\n",
    "K = k*sigma_xbar\n",
    "\n",
    "df_CUSUM = data.copy()\n",
    "df_CUSUM['Ci+'] = 0.0\n",
    "df_CUSUM['Ci-'] = 0.0\n",
    "for i in range(len(df_CUSUM)):\n",
    "    if i == 0:\n",
    "        df_CUSUM.loc[i, 'Ci+'] = max(0, df_CUSUM.loc[i, col_name] - (xbarbar + K))\n",
    "        df_CUSUM.loc[i, 'Ci-'] = max(0, (xbarbar - K) - df_CUSUM.loc[i, col_name])\n",
    "    else:\n",
    "        df_CUSUM.loc[i, 'Ci+'] = max(0, df_CUSUM.loc[i, col_name] - (xbarbar + K) + df_CUSUM.loc[i-1, 'Ci+'])\n",
    "        df_CUSUM.loc[i, 'Ci-'] = max(0, (xbarbar - K) - df_CUSUM.loc[i, col_name] + df_CUSUM.loc[i-1, 'Ci-'])\n",
    "\n",
    "df_CUSUM['Ci+_TEST1'] = np.where((df_CUSUM['Ci+'] > H) | (df_CUSUM['Ci+'] < -H), df_CUSUM['Ci+'], np.nan)\n",
    "df_CUSUM['Ci-_TEST1'] = np.where((df_CUSUM['Ci-'] > H) | (df_CUSUM['Ci-'] < -H), df_CUSUM['Ci-'], np.nan)\n",
    "\n",
    "# Plot the control limits\n",
    "plt.hlines(H, 0, len(df_CUSUM), color='firebrick', linewidth=1)\n",
    "plt.hlines(0, 0, len(df_CUSUM), color='g', linewidth=1)\n",
    "plt.hlines(-H, 0, len(df_CUSUM), color='firebrick', linewidth=1)\n",
    "# Plot the chart\n",
    "plt.title('CUSUM chart of %s (h=%.2f, k=%.2f)' % (col_name, h, k))\n",
    "plt.plot(df_CUSUM['Ci+'], color='b', linestyle='-', marker='o')\n",
    "plt.plot(-df_CUSUM['Ci-'], color='b', linestyle='-', marker='D')\n",
    "# add the values of the control limits on the right side of the plot\n",
    "plt.text(len(df_CUSUM)+.5, H, 'UCL = {:.3f}'.format(H), verticalalignment='center')\n",
    "plt.text(len(df_CUSUM)+.5, 0, 'CL = {:.3f}'.format(0), verticalalignment='center')\n",
    "plt.text(len(df_CUSUM)+.5, -H, 'LCL = {:.3f}'.format(-H), verticalalignment='center')\n",
    "# highlight the points that violate the alarm rules\n",
    "plt.plot(df_CUSUM['Ci+_TEST1'], linestyle='none', marker='s', color='firebrick', markersize=10)\n",
    "plt.plot(-df_CUSUM['Ci-_TEST1'], linestyle='none', marker='s', color='firebrick', markersize=10)\n",
    "plt.xlim(-1, len(df_CUSUM))\n",
    "plt.show()"
   ]
  },
  {
   "cell_type": "markdown",
   "metadata": {},
   "source": [
    "EWMA Manually"
   ]
  },
  {
   "cell_type": "code",
   "execution_count": null,
   "metadata": {},
   "outputs": [],
   "source": [
    "lambda_ = \n",
    "\n",
    "df_EWMA = data.copy()\n",
    "df_EWMA['a_t'] = lambda_/(2-lambda_) * (1 - (1-lambda_)**(2*np.arange(1, len(df_EWMA)+1)))\n",
    "for i in range(len(df_EWMA)):\n",
    "    if i == 0:\n",
    "        df_EWMA.loc[i, 'z'] = lambda_*df_EWMA.loc[i, col_name] + (1-lambda_)*xbarbar\n",
    "    else:\n",
    "        df_EWMA.loc[i, 'z'] = lambda_*df_EWMA.loc[i, col_name] + (1-lambda_)*df_EWMA.loc[i-1, 'z']\n",
    "df_EWMA['UCL'] = xbarbar + 3*sigma_xbar*np.sqrt(df_EWMA['a_t'])\n",
    "df_EWMA['CL'] = xbarbar\n",
    "df_EWMA['LCL'] = xbarbar - 3*sigma_xbar*np.sqrt(df_EWMA['a_t'])\n",
    "\n",
    "df_EWMA['z_TEST1'] = np.where((df_EWMA['z'] > df_EWMA['UCL']) | (df_EWMA['z'] < df_EWMA['LCL']), df_EWMA['z'], np.nan)\n",
    "\n",
    "# Plot the control limits\n",
    "plt.plot(df_EWMA['UCL'], color='firebrick', linewidth=1)\n",
    "plt.plot(df_EWMA['CL'], color='g', linewidth=1)\n",
    "plt.plot(df_EWMA['LCL'], color='firebrick', linewidth=1)\n",
    "# Plot the chart\n",
    "plt.title('EWMA chart of %s (lambda=%.2f)' % (col_name, lambda_))\n",
    "plt.plot(df_EWMA['z'], color='b', linestyle='-', marker='o')\n",
    "# add the values of the control limits on the right side of the plot\n",
    "plt.text(len(df_EWMA)+.5, df_EWMA['UCL'].iloc[-1], 'UCL = {:.3f}'.format(df_EWMA['UCL'].iloc[-1]), verticalalignment='center')\n",
    "plt.text(len(df_EWMA)+.5, df_EWMA['CL'].iloc[-1], 'CL = {:.3f}'.format(df_EWMA['CL'].iloc[-1]), verticalalignment='center')\n",
    "plt.text(len(df_EWMA)+.5, df_EWMA['LCL'].iloc[-1], 'LCL = {:.3f}'.format(df_EWMA['LCL'].iloc[-1]), verticalalignment='center')\n",
    "# highlight the points that violate the alarm rules\n",
    "plt.plot(df_EWMA['z_TEST1'], linestyle='none', marker='s', color='firebrick', markersize=10)\n",
    "plt.xlim(-1, len(df_EWMA))\n",
    "plt.show()"
   ]
  },
  {
   "cell_type": "markdown",
   "metadata": {},
   "source": [
    "With command and assuming mu and sigma known"
   ]
  },
  {
   "cell_type": "code",
   "execution_count": null,
   "metadata": {},
   "outputs": [],
   "source": [
    "df_CUSUM = qda.ControlCharts.CUSUM(data, '', params=(h,k), mean = mu, sigma_xbar = sigma_xbar)"
   ]
  },
  {
   "cell_type": "code",
   "execution_count": null,
   "metadata": {},
   "outputs": [],
   "source": [
    "df_EWMA = qda.ControlCharts.EWMA(data, '', lambda_, mu, sigma_xbar)"
   ]
  },
  {
   "cell_type": "markdown",
   "metadata": {},
   "source": [
    "If sample groups"
   ]
  },
  {
   "cell_type": "code",
   "execution_count": null,
   "metadata": {},
   "outputs": [],
   "source": [
    "# Input the known mean and standard deviation\n",
    "mean = \n",
    "stdev = \n",
    "n = \n",
    "\n",
    "data_XS = qda.ControlCharts.XbarS(data, mean = mean, sigma = stdev)"
   ]
  },
  {
   "cell_type": "code",
   "execution_count": null,
   "metadata": {},
   "outputs": [],
   "source": [
    "# input the parameters of the CUSUM control chart\n",
    "h = \n",
    "k = \n",
    "# extract the sample_mean column from data_XS and put it in a new dataframe\n",
    "data_mean = pd.DataFrame(data_XS['sample_mean'])\n",
    "# Design the CUSUM control chart\n",
    "data_CUSUM = qda.ControlCharts.CUSUM(data_mean, 'sample_mean', params=(h,k), mean = mean, sigma_xbar = stdev/np.sqrt(n))"
   ]
  },
  {
   "cell_type": "code",
   "execution_count": null,
   "metadata": {},
   "outputs": [],
   "source": [
    "# Input the parameters of the EWMA control chart\n",
    "lambda_ = \n",
    "\n",
    "# Design the EWMA control chart\n",
    "data_EWMA = qda.ControlCharts.EWMA(data_mean, 'sample_mean', params=(lambda_), mean = mean, sigma_xbar = stdev/np.sqrt(n))"
   ]
  },
  {
   "cell_type": "markdown",
   "metadata": {},
   "source": [
    "Phase 2"
   ]
  },
  {
   "cell_type": "code",
   "execution_count": null,
   "metadata": {},
   "outputs": [],
   "source": [
    "data_p2 = pd.read_csv('')\n",
    "data_p2.head()\n",
    "\n",
    "phase1_size = len(data)\n",
    "print(phase1_size)\n",
    "\n",
    "data_all = pd.concat([data, data_p2], ignore_index=True)\n",
    "\n",
    "data_XS = qda.ControlCharts.XbarS(data_all, mean = mean, sigma = stdev, subset_size = phase1_size)"
   ]
  },
  {
   "cell_type": "code",
   "execution_count": null,
   "metadata": {},
   "outputs": [],
   "source": [
    "# extract the sample_mean column from data_XS and put it in a new dataframe\n",
    "data_mean = pd.DataFrame(data_XS['sample_mean'])"
   ]
  },
  {
   "cell_type": "code",
   "execution_count": null,
   "metadata": {},
   "outputs": [],
   "source": [
    "data_CUSUM = qda.ControlCharts.CUSUM(data_mean, 'sample_mean', params=(h,k), mean = mean, sigma_xbar = stdev/np.sqrt(n), subset_size=phase1_size)"
   ]
  },
  {
   "cell_type": "code",
   "execution_count": null,
   "metadata": {},
   "outputs": [],
   "source": [
    "data_EWMA = qda.ControlCharts.EWMA(data_mean, 'sample_mean', params=(lambda_), mean = mean, sigma_xbar = stdev/np.sqrt(n), subset_size=phase1_size)"
   ]
  }
 ],
 "metadata": {
  "kernelspec": {
   "display_name": "qda2",
   "language": "python",
   "name": "python3"
  },
  "language_info": {
   "codemirror_mode": {
    "name": "ipython",
    "version": 3
   },
   "file_extension": ".py",
   "mimetype": "text/x-python",
   "name": "python",
   "nbconvert_exporter": "python",
   "pygments_lexer": "ipython3",
   "version": "3.7.12"
  },
  "orig_nbformat": 4,
  "vscode": {
   "interpreter": {
    "hash": "f83e156cbcff9297b7b48d17cb0a2aa554376af383abb1a28c70ffb29fc29c0a"
   }
  }
 },
 "nbformat": 4,
 "nbformat_minor": 2
}
